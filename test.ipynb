{
 "cells": [
  {
   "cell_type": "code",
   "execution_count": 181,
   "metadata": {},
   "outputs": [
    {
     "name": "stdout",
     "output_type": "stream",
     "text": [
      "Requirement already satisfied: isoweek in c:\\users\\default user.desktop-3n7aug0\\anaconda3\\lib\\site-packages (1.3.3)\n",
      "Requirement already satisfied: chart_studio in c:\\users\\default user.desktop-3n7aug0\\anaconda3\\lib\\site-packages (1.1.0)\n",
      "Requirement already satisfied: requests in c:\\users\\default user.desktop-3n7aug0\\anaconda3\\lib\\site-packages (from chart_studio) (2.25.1)\n",
      "Requirement already satisfied: plotly in c:\\users\\default user.desktop-3n7aug0\\anaconda3\\lib\\site-packages (from chart_studio) (5.11.0)\n",
      "Requirement already satisfied: retrying>=1.3.3 in c:\\users\\default user.desktop-3n7aug0\\anaconda3\\lib\\site-packages (from chart_studio) (1.3.3)\n",
      "Requirement already satisfied: six in c:\\users\\default user.desktop-3n7aug0\\anaconda3\\lib\\site-packages (from chart_studio) (1.15.0)\n",
      "Requirement already satisfied: tenacity>=6.2.0 in c:\\users\\default user.desktop-3n7aug0\\anaconda3\\lib\\site-packages (from plotly->chart_studio) (8.1.0)\n",
      "Requirement already satisfied: chardet<5,>=3.0.2 in c:\\users\\default user.desktop-3n7aug0\\anaconda3\\lib\\site-packages (from requests->chart_studio) (4.0.0)\n",
      "Requirement already satisfied: urllib3<1.27,>=1.21.1 in c:\\users\\default user.desktop-3n7aug0\\anaconda3\\lib\\site-packages (from requests->chart_studio) (1.26.4)\n",
      "Requirement already satisfied: idna<3,>=2.5 in c:\\users\\default user.desktop-3n7aug0\\anaconda3\\lib\\site-packages (from requests->chart_studio) (2.10)\n",
      "Requirement already satisfied: certifi>=2017.4.17 in c:\\users\\default user.desktop-3n7aug0\\anaconda3\\lib\\site-packages (from requests->chart_studio) (2020.12.5)\n",
      "Requirement already satisfied: ipykernel in c:\\users\\default user.desktop-3n7aug0\\anaconda3\\lib\\site-packages (5.3.4)\n",
      "Requirement already satisfied: traitlets>=4.1.0 in c:\\users\\default user.desktop-3n7aug0\\anaconda3\\lib\\site-packages (from ipykernel) (5.0.5)\n",
      "Requirement already satisfied: ipython>=5.0.0 in c:\\users\\default user.desktop-3n7aug0\\anaconda3\\lib\\site-packages (from ipykernel) (7.22.0)\n",
      "Requirement already satisfied: jupyter-client in c:\\users\\default user.desktop-3n7aug0\\anaconda3\\lib\\site-packages (from ipykernel) (6.1.12)\n",
      "Requirement already satisfied: tornado>=4.2 in c:\\users\\default user.desktop-3n7aug0\\anaconda3\\lib\\site-packages (from ipykernel) (6.1)\n",
      "Requirement already satisfied: pygments in c:\\users\\default user.desktop-3n7aug0\\anaconda3\\lib\\site-packages (from ipython>=5.0.0->ipykernel) (2.8.1)\n",
      "Requirement already satisfied: decorator in c:\\users\\default user.desktop-3n7aug0\\anaconda3\\lib\\site-packages (from ipython>=5.0.0->ipykernel) (4.3.0)\n",
      "Requirement already satisfied: pickleshare in c:\\users\\default user.desktop-3n7aug0\\anaconda3\\lib\\site-packages (from ipython>=5.0.0->ipykernel) (0.7.5)\n",
      "Requirement already satisfied: backcall in c:\\users\\default user.desktop-3n7aug0\\anaconda3\\lib\\site-packages (from ipython>=5.0.0->ipykernel) (0.2.0)\n",
      "Requirement already satisfied: prompt-toolkit!=3.0.0,!=3.0.1,<3.1.0,>=2.0.0 in c:\\users\\default user.desktop-3n7aug0\\anaconda3\\lib\\site-packages (from ipython>=5.0.0->ipykernel) (3.0.17)\n",
      "Requirement already satisfied: colorama in c:\\users\\default user.desktop-3n7aug0\\anaconda3\\lib\\site-packages (from ipython>=5.0.0->ipykernel) (0.4.4)\n",
      "Requirement already satisfied: jedi>=0.16 in c:\\users\\default user.desktop-3n7aug0\\anaconda3\\lib\\site-packages (from ipython>=5.0.0->ipykernel) (0.17.2)\n",
      "Requirement already satisfied: setuptools>=18.5 in c:\\users\\default user.desktop-3n7aug0\\anaconda3\\lib\\site-packages (from ipython>=5.0.0->ipykernel) (52.0.0.post20210125)\n",
      "Requirement already satisfied: parso<0.8.0,>=0.7.0 in c:\\users\\default user.desktop-3n7aug0\\anaconda3\\lib\\site-packages (from jedi>=0.16->ipython>=5.0.0->ipykernel) (0.7.0)\n",
      "Requirement already satisfied: wcwidth in c:\\users\\default user.desktop-3n7aug0\\anaconda3\\lib\\site-packages (from prompt-toolkit!=3.0.0,!=3.0.1,<3.1.0,>=2.0.0->ipython>=5.0.0->ipykernel) (0.2.5)\n",
      "Requirement already satisfied: ipython-genutils in c:\\users\\default user.desktop-3n7aug0\\anaconda3\\lib\\site-packages (from traitlets>=4.1.0->ipykernel) (0.2.0)\n",
      "Requirement already satisfied: jupyter-core>=4.6.0 in c:\\users\\default user.desktop-3n7aug0\\anaconda3\\lib\\site-packages (from jupyter-client->ipykernel) (4.7.1)\n",
      "Requirement already satisfied: python-dateutil>=2.1 in c:\\users\\default user.desktop-3n7aug0\\anaconda3\\lib\\site-packages (from jupyter-client->ipykernel) (2.8.1)\n",
      "Requirement already satisfied: pyzmq>=13 in c:\\users\\default user.desktop-3n7aug0\\anaconda3\\lib\\site-packages (from jupyter-client->ipykernel) (20.0.0)\n",
      "Requirement already satisfied: pywin32>=1.0 in c:\\users\\default user.desktop-3n7aug0\\anaconda3\\lib\\site-packages (from jupyter-core>=4.6.0->jupyter-client->ipykernel) (227)\n",
      "Requirement already satisfied: six>=1.5 in c:\\users\\default user.desktop-3n7aug0\\anaconda3\\lib\\site-packages (from python-dateutil>=2.1->jupyter-client->ipykernel) (1.15.0)\n"
     ]
    }
   ],
   "source": [
    "!pip install isoweek\n",
    "!pip install chart_studio\n",
    "!pip install ipykernel\n"
   ]
  },
  {
   "cell_type": "code",
   "execution_count": 182,
   "metadata": {},
   "outputs": [],
   "source": [
    "import pandas as pd\n",
    "import numpy as np\n",
    "from urllib.request import urlopen\n",
    "import json\n",
    "import pandas as pd\n",
    "import plotly.express as px\n",
    "import chart_studio\n",
    "import chart_studio.plotly as py\n",
    "import plotly.figure_factory as ff\n",
    "import warnings\n",
    "warnings.filterwarnings('ignore')\n",
    "from IPython.display import HTML\n",
    "import os\n",
    "import isoweek\n",
    "#import holoviews as hv\n",
    "import matplotlib.pyplot as plt\n",
    "import seaborn as sns\n",
    "#from holoviews import opts\n",
    "#hv.extension('bokeh', 'matplotlib')\n"
   ]
  },
  {
   "cell_type": "code",
   "execution_count": 183,
   "metadata": {},
   "outputs": [
    {
     "data": {
      "text/html": [
       "<div>\n",
       "<style scoped>\n",
       "    .dataframe tbody tr th:only-of-type {\n",
       "        vertical-align: middle;\n",
       "    }\n",
       "\n",
       "    .dataframe tbody tr th {\n",
       "        vertical-align: top;\n",
       "    }\n",
       "\n",
       "    .dataframe thead th {\n",
       "        text-align: right;\n",
       "    }\n",
       "</style>\n",
       "<table border=\"1\" class=\"dataframe\">\n",
       "  <thead>\n",
       "    <tr style=\"text-align: right;\">\n",
       "      <th></th>\n",
       "      <th>time</th>\n",
       "      <th>rfe</th>\n",
       "      <th>rfe_filled</th>\n",
       "    </tr>\n",
       "  </thead>\n",
       "  <tbody>\n",
       "    <tr>\n",
       "      <th>0</th>\n",
       "      <td>1983-01-01</td>\n",
       "      <td>-999.0</td>\n",
       "      <td>0.03</td>\n",
       "    </tr>\n",
       "    <tr>\n",
       "      <th>1</th>\n",
       "      <td>1983-01-02</td>\n",
       "      <td>-999.0</td>\n",
       "      <td>0.09</td>\n",
       "    </tr>\n",
       "    <tr>\n",
       "      <th>2</th>\n",
       "      <td>1983-01-03</td>\n",
       "      <td>-999.0</td>\n",
       "      <td>0.48</td>\n",
       "    </tr>\n",
       "    <tr>\n",
       "      <th>3</th>\n",
       "      <td>1983-01-04</td>\n",
       "      <td>-999.0</td>\n",
       "      <td>0.13</td>\n",
       "    </tr>\n",
       "    <tr>\n",
       "      <th>4</th>\n",
       "      <td>1983-01-05</td>\n",
       "      <td>-999.0</td>\n",
       "      <td>0.04</td>\n",
       "    </tr>\n",
       "  </tbody>\n",
       "</table>\n",
       "</div>"
      ],
      "text/plain": [
       "        time    rfe  rfe_filled\n",
       "0 1983-01-01 -999.0        0.03\n",
       "1 1983-01-02 -999.0        0.09\n",
       "2 1983-01-03 -999.0        0.48\n",
       "3 1983-01-04 -999.0        0.13\n",
       "4 1983-01-05 -999.0        0.04"
      ]
     },
     "execution_count": 183,
     "metadata": {},
     "output_type": "execute_result"
    }
   ],
   "source": [
    "# read file in\n",
    "import pandas as pd\n",
    "import numpy as np\n",
    "file = 'Datasets\\somalia_daily_dataset.csv'\n",
    "df_daily = pd.read_csv(file, \n",
    "                         usecols=['time','rfe','rfe_filled'],\n",
    "                         parse_dates=['time'], dayfirst=True)\n",
    "df_daily.head()\n",
    "#df_daily['time'] = pd.to_datetime(df_daily['time'])"
   ]
  },
  {
   "cell_type": "code",
   "execution_count": 184,
   "metadata": {},
   "outputs": [],
   "source": [
    "# yearweek\n",
    "\n",
    "def iso_week_generator(yearweek):\n",
    "    '''\n",
    "    A function which transforms a year week combo into isoweek date.\n",
    "    This makes sure we start at every Monday of the week in summing up weekly rainfall.\n",
    "    '''\n",
    "    from isoweek import Week\n",
    "    yw_str = str(yearweek)\n",
    "    year = yw_str[0:4]\n",
    "    wk = yw_str[4:6]\n",
    "    start_d = Week(int(year), int(wk)).monday()\n",
    "    return start_d\n"
   ]
  },
  {
   "cell_type": "code",
   "execution_count": 185,
   "metadata": {},
   "outputs": [],
   "source": [
    "# year, week of year average,\n",
    "\n",
    "def rainfall(df):\n",
    "    '''\n",
    "    a straightforward preprocessing function for the raw input file.\n",
    "Several time series-based features are being developed for future use.\n",
    "    '''\n",
    "    import math\n",
    "    f = \"%Y/%m/%d\"\n",
    "    df['Year'], df['Week'] = df['time'].dt.year, df['time'].dt.isocalendar().week\n",
    "    df['Week'] = df.apply(lambda x: ''.join(['0', str(x['Week'])] if x['Week'] < 10 else str(x['Week'])),axis=1)\n",
    "    df['YearWeek'] = df[['Year','Week']].astype(str).apply(''.join,1)\n",
    "    df['Date'] = df.apply(lambda x: iso_week_generator(x['YearWeek']), axis=1)\n",
    "    df_fin = df.groupby(['YearWeek','Date'], as_index=False)['rfe_filled'].sum()\n",
    "    # date into datetime\n",
    "    df_fin['Date'] = pd.to_datetime(df_fin['Date'], format=f)\n",
    "    # month, week num, week in month\n",
    "    df_fin[\"Month\"], df_fin['Month_Name']  = df_fin['Date'].dt.month, df_fin['Date'].dt.strftime('%b')\n",
    "    df_fin['WeekNum'] = df_fin.apply(lambda x: x['Date'].isocalendar()[1], axis=1)\n",
    "    df_fin['Quarter'] = df_fin.apply(lambda x: x['Date'].quarter, axis=1)\n",
    "    df_fin['Day'] = df_fin.apply(lambda x: x['Date'].day, axis=1)\n",
    "    df_fin['WeekinMonth'] = df_fin.apply(lambda x: math.ceil(pd.to_numeric(x['Day']/7)), axis=1)\n",
    "    \n",
    "    return df_fin\n",
    "     "
   ]
  },
  {
   "cell_type": "code",
   "execution_count": 186,
   "metadata": {},
   "outputs": [],
   "source": [
    "# pre-process rainfall data\n",
    "df_som = rainfall(df_daily)\n"
   ]
  },
  {
   "cell_type": "code",
   "execution_count": 187,
   "metadata": {},
   "outputs": [
    {
     "data": {
      "application/vnd.plotly.v1+json": {
       "config": {
        "plotlyServerURL": "https://plot.ly"
       },
       "data": [
        {
         "colorscale": [
          [
           0,
           "#00083e"
          ],
          [
           0.5,
           "#ededee"
          ],
          [
           1,
           "#ffffff"
          ]
         ],
         "hoverinfo": "none",
         "opacity": 0.75,
         "showscale": false,
         "type": "heatmap",
         "z": [
          [
           0,
           0,
           0,
           0,
           0,
           0,
           0
          ],
          [
           0.5,
           0.5,
           0.5,
           0.5,
           0.5,
           0.5,
           0.5
          ],
          [
           1,
           1,
           1,
           1,
           1,
           1,
           1
          ],
          [
           0.5,
           0.5,
           0.5,
           0.5,
           0.5,
           0.5,
           0.5
          ],
          [
           1,
           1,
           1,
           1,
           1,
           1,
           1
          ]
         ]
        }
       ],
       "layout": {
        "annotations": [
         {
          "align": "left",
          "font": {
           "color": "#ffffff"
          },
          "showarrow": false,
          "text": "<b>YearWeek</b>",
          "x": -0.45,
          "xanchor": "left",
          "xref": "x",
          "y": 0,
          "yref": "y"
         },
         {
          "align": "left",
          "font": {
           "color": "#ffffff"
          },
          "showarrow": false,
          "text": "<b>rfe_filled</b>",
          "x": 0.55,
          "xanchor": "left",
          "xref": "x",
          "y": 0,
          "yref": "y"
         },
         {
          "align": "left",
          "font": {
           "color": "#ffffff"
          },
          "showarrow": false,
          "text": "<b>Month</b>",
          "x": 1.55,
          "xanchor": "left",
          "xref": "x",
          "y": 0,
          "yref": "y"
         },
         {
          "align": "left",
          "font": {
           "color": "#ffffff"
          },
          "showarrow": false,
          "text": "<b>Month_Name</b>",
          "x": 2.55,
          "xanchor": "left",
          "xref": "x",
          "y": 0,
          "yref": "y"
         },
         {
          "align": "left",
          "font": {
           "color": "#ffffff"
          },
          "showarrow": false,
          "text": "<b>WeekNum</b>",
          "x": 3.55,
          "xanchor": "left",
          "xref": "x",
          "y": 0,
          "yref": "y"
         },
         {
          "align": "left",
          "font": {
           "color": "#ffffff"
          },
          "showarrow": false,
          "text": "<b>Quarter</b>",
          "x": 4.55,
          "xanchor": "left",
          "xref": "x",
          "y": 0,
          "yref": "y"
         },
         {
          "align": "left",
          "font": {
           "color": "#ffffff"
          },
          "showarrow": false,
          "text": "<b>Day</b>",
          "x": 5.55,
          "xanchor": "left",
          "xref": "x",
          "y": 0,
          "yref": "y"
         },
         {
          "align": "left",
          "font": {
           "color": "#000000"
          },
          "showarrow": false,
          "text": "198301",
          "x": -0.45,
          "xanchor": "left",
          "xref": "x",
          "y": 1,
          "yref": "y"
         },
         {
          "align": "left",
          "font": {
           "color": "#000000"
          },
          "showarrow": false,
          "text": "0.66",
          "x": 0.55,
          "xanchor": "left",
          "xref": "x",
          "y": 1,
          "yref": "y"
         },
         {
          "align": "left",
          "font": {
           "color": "#000000"
          },
          "showarrow": false,
          "text": "1",
          "x": 1.55,
          "xanchor": "left",
          "xref": "x",
          "y": 1,
          "yref": "y"
         },
         {
          "align": "left",
          "font": {
           "color": "#000000"
          },
          "showarrow": false,
          "text": "Jan",
          "x": 2.55,
          "xanchor": "left",
          "xref": "x",
          "y": 1,
          "yref": "y"
         },
         {
          "align": "left",
          "font": {
           "color": "#000000"
          },
          "showarrow": false,
          "text": "1",
          "x": 3.55,
          "xanchor": "left",
          "xref": "x",
          "y": 1,
          "yref": "y"
         },
         {
          "align": "left",
          "font": {
           "color": "#000000"
          },
          "showarrow": false,
          "text": "1",
          "x": 4.55,
          "xanchor": "left",
          "xref": "x",
          "y": 1,
          "yref": "y"
         },
         {
          "align": "left",
          "font": {
           "color": "#000000"
          },
          "showarrow": false,
          "text": "3",
          "x": 5.55,
          "xanchor": "left",
          "xref": "x",
          "y": 1,
          "yref": "y"
         },
         {
          "align": "left",
          "font": {
           "color": "#000000"
          },
          "showarrow": false,
          "text": "198302",
          "x": -0.45,
          "xanchor": "left",
          "xref": "x",
          "y": 2,
          "yref": "y"
         },
         {
          "align": "left",
          "font": {
           "color": "#000000"
          },
          "showarrow": false,
          "text": "0.02",
          "x": 0.55,
          "xanchor": "left",
          "xref": "x",
          "y": 2,
          "yref": "y"
         },
         {
          "align": "left",
          "font": {
           "color": "#000000"
          },
          "showarrow": false,
          "text": "1",
          "x": 1.55,
          "xanchor": "left",
          "xref": "x",
          "y": 2,
          "yref": "y"
         },
         {
          "align": "left",
          "font": {
           "color": "#000000"
          },
          "showarrow": false,
          "text": "Jan",
          "x": 2.55,
          "xanchor": "left",
          "xref": "x",
          "y": 2,
          "yref": "y"
         },
         {
          "align": "left",
          "font": {
           "color": "#000000"
          },
          "showarrow": false,
          "text": "2",
          "x": 3.55,
          "xanchor": "left",
          "xref": "x",
          "y": 2,
          "yref": "y"
         },
         {
          "align": "left",
          "font": {
           "color": "#000000"
          },
          "showarrow": false,
          "text": "1",
          "x": 4.55,
          "xanchor": "left",
          "xref": "x",
          "y": 2,
          "yref": "y"
         },
         {
          "align": "left",
          "font": {
           "color": "#000000"
          },
          "showarrow": false,
          "text": "10",
          "x": 5.55,
          "xanchor": "left",
          "xref": "x",
          "y": 2,
          "yref": "y"
         },
         {
          "align": "left",
          "font": {
           "color": "#000000"
          },
          "showarrow": false,
          "text": "198303",
          "x": -0.45,
          "xanchor": "left",
          "xref": "x",
          "y": 3,
          "yref": "y"
         },
         {
          "align": "left",
          "font": {
           "color": "#000000"
          },
          "showarrow": false,
          "text": "0.0",
          "x": 0.55,
          "xanchor": "left",
          "xref": "x",
          "y": 3,
          "yref": "y"
         },
         {
          "align": "left",
          "font": {
           "color": "#000000"
          },
          "showarrow": false,
          "text": "1",
          "x": 1.55,
          "xanchor": "left",
          "xref": "x",
          "y": 3,
          "yref": "y"
         },
         {
          "align": "left",
          "font": {
           "color": "#000000"
          },
          "showarrow": false,
          "text": "Jan",
          "x": 2.55,
          "xanchor": "left",
          "xref": "x",
          "y": 3,
          "yref": "y"
         },
         {
          "align": "left",
          "font": {
           "color": "#000000"
          },
          "showarrow": false,
          "text": "3",
          "x": 3.55,
          "xanchor": "left",
          "xref": "x",
          "y": 3,
          "yref": "y"
         },
         {
          "align": "left",
          "font": {
           "color": "#000000"
          },
          "showarrow": false,
          "text": "1",
          "x": 4.55,
          "xanchor": "left",
          "xref": "x",
          "y": 3,
          "yref": "y"
         },
         {
          "align": "left",
          "font": {
           "color": "#000000"
          },
          "showarrow": false,
          "text": "17",
          "x": 5.55,
          "xanchor": "left",
          "xref": "x",
          "y": 3,
          "yref": "y"
         },
         {
          "align": "left",
          "font": {
           "color": "#000000"
          },
          "showarrow": false,
          "text": "198304",
          "x": -0.45,
          "xanchor": "left",
          "xref": "x",
          "y": 4,
          "yref": "y"
         },
         {
          "align": "left",
          "font": {
           "color": "#000000"
          },
          "showarrow": false,
          "text": "0.0",
          "x": 0.55,
          "xanchor": "left",
          "xref": "x",
          "y": 4,
          "yref": "y"
         },
         {
          "align": "left",
          "font": {
           "color": "#000000"
          },
          "showarrow": false,
          "text": "1",
          "x": 1.55,
          "xanchor": "left",
          "xref": "x",
          "y": 4,
          "yref": "y"
         },
         {
          "align": "left",
          "font": {
           "color": "#000000"
          },
          "showarrow": false,
          "text": "Jan",
          "x": 2.55,
          "xanchor": "left",
          "xref": "x",
          "y": 4,
          "yref": "y"
         },
         {
          "align": "left",
          "font": {
           "color": "#000000"
          },
          "showarrow": false,
          "text": "4",
          "x": 3.55,
          "xanchor": "left",
          "xref": "x",
          "y": 4,
          "yref": "y"
         },
         {
          "align": "left",
          "font": {
           "color": "#000000"
          },
          "showarrow": false,
          "text": "1",
          "x": 4.55,
          "xanchor": "left",
          "xref": "x",
          "y": 4,
          "yref": "y"
         },
         {
          "align": "left",
          "font": {
           "color": "#000000"
          },
          "showarrow": false,
          "text": "24",
          "x": 5.55,
          "xanchor": "left",
          "xref": "x",
          "y": 4,
          "yref": "y"
         }
        ],
        "height": 200,
        "margin": {
         "b": 0,
         "l": 0,
         "r": 0,
         "t": 0
        },
        "template": {
         "data": {
          "bar": [
           {
            "error_x": {
             "color": "#2a3f5f"
            },
            "error_y": {
             "color": "#2a3f5f"
            },
            "marker": {
             "line": {
              "color": "#E5ECF6",
              "width": 0.5
             },
             "pattern": {
              "fillmode": "overlay",
              "size": 10,
              "solidity": 0.2
             }
            },
            "type": "bar"
           }
          ],
          "barpolar": [
           {
            "marker": {
             "line": {
              "color": "#E5ECF6",
              "width": 0.5
             },
             "pattern": {
              "fillmode": "overlay",
              "size": 10,
              "solidity": 0.2
             }
            },
            "type": "barpolar"
           }
          ],
          "carpet": [
           {
            "aaxis": {
             "endlinecolor": "#2a3f5f",
             "gridcolor": "white",
             "linecolor": "white",
             "minorgridcolor": "white",
             "startlinecolor": "#2a3f5f"
            },
            "baxis": {
             "endlinecolor": "#2a3f5f",
             "gridcolor": "white",
             "linecolor": "white",
             "minorgridcolor": "white",
             "startlinecolor": "#2a3f5f"
            },
            "type": "carpet"
           }
          ],
          "choropleth": [
           {
            "colorbar": {
             "outlinewidth": 0,
             "ticks": ""
            },
            "type": "choropleth"
           }
          ],
          "contour": [
           {
            "colorbar": {
             "outlinewidth": 0,
             "ticks": ""
            },
            "colorscale": [
             [
              0,
              "#0d0887"
             ],
             [
              0.1111111111111111,
              "#46039f"
             ],
             [
              0.2222222222222222,
              "#7201a8"
             ],
             [
              0.3333333333333333,
              "#9c179e"
             ],
             [
              0.4444444444444444,
              "#bd3786"
             ],
             [
              0.5555555555555556,
              "#d8576b"
             ],
             [
              0.6666666666666666,
              "#ed7953"
             ],
             [
              0.7777777777777778,
              "#fb9f3a"
             ],
             [
              0.8888888888888888,
              "#fdca26"
             ],
             [
              1,
              "#f0f921"
             ]
            ],
            "type": "contour"
           }
          ],
          "contourcarpet": [
           {
            "colorbar": {
             "outlinewidth": 0,
             "ticks": ""
            },
            "type": "contourcarpet"
           }
          ],
          "heatmap": [
           {
            "colorbar": {
             "outlinewidth": 0,
             "ticks": ""
            },
            "colorscale": [
             [
              0,
              "#0d0887"
             ],
             [
              0.1111111111111111,
              "#46039f"
             ],
             [
              0.2222222222222222,
              "#7201a8"
             ],
             [
              0.3333333333333333,
              "#9c179e"
             ],
             [
              0.4444444444444444,
              "#bd3786"
             ],
             [
              0.5555555555555556,
              "#d8576b"
             ],
             [
              0.6666666666666666,
              "#ed7953"
             ],
             [
              0.7777777777777778,
              "#fb9f3a"
             ],
             [
              0.8888888888888888,
              "#fdca26"
             ],
             [
              1,
              "#f0f921"
             ]
            ],
            "type": "heatmap"
           }
          ],
          "heatmapgl": [
           {
            "colorbar": {
             "outlinewidth": 0,
             "ticks": ""
            },
            "colorscale": [
             [
              0,
              "#0d0887"
             ],
             [
              0.1111111111111111,
              "#46039f"
             ],
             [
              0.2222222222222222,
              "#7201a8"
             ],
             [
              0.3333333333333333,
              "#9c179e"
             ],
             [
              0.4444444444444444,
              "#bd3786"
             ],
             [
              0.5555555555555556,
              "#d8576b"
             ],
             [
              0.6666666666666666,
              "#ed7953"
             ],
             [
              0.7777777777777778,
              "#fb9f3a"
             ],
             [
              0.8888888888888888,
              "#fdca26"
             ],
             [
              1,
              "#f0f921"
             ]
            ],
            "type": "heatmapgl"
           }
          ],
          "histogram": [
           {
            "marker": {
             "pattern": {
              "fillmode": "overlay",
              "size": 10,
              "solidity": 0.2
             }
            },
            "type": "histogram"
           }
          ],
          "histogram2d": [
           {
            "colorbar": {
             "outlinewidth": 0,
             "ticks": ""
            },
            "colorscale": [
             [
              0,
              "#0d0887"
             ],
             [
              0.1111111111111111,
              "#46039f"
             ],
             [
              0.2222222222222222,
              "#7201a8"
             ],
             [
              0.3333333333333333,
              "#9c179e"
             ],
             [
              0.4444444444444444,
              "#bd3786"
             ],
             [
              0.5555555555555556,
              "#d8576b"
             ],
             [
              0.6666666666666666,
              "#ed7953"
             ],
             [
              0.7777777777777778,
              "#fb9f3a"
             ],
             [
              0.8888888888888888,
              "#fdca26"
             ],
             [
              1,
              "#f0f921"
             ]
            ],
            "type": "histogram2d"
           }
          ],
          "histogram2dcontour": [
           {
            "colorbar": {
             "outlinewidth": 0,
             "ticks": ""
            },
            "colorscale": [
             [
              0,
              "#0d0887"
             ],
             [
              0.1111111111111111,
              "#46039f"
             ],
             [
              0.2222222222222222,
              "#7201a8"
             ],
             [
              0.3333333333333333,
              "#9c179e"
             ],
             [
              0.4444444444444444,
              "#bd3786"
             ],
             [
              0.5555555555555556,
              "#d8576b"
             ],
             [
              0.6666666666666666,
              "#ed7953"
             ],
             [
              0.7777777777777778,
              "#fb9f3a"
             ],
             [
              0.8888888888888888,
              "#fdca26"
             ],
             [
              1,
              "#f0f921"
             ]
            ],
            "type": "histogram2dcontour"
           }
          ],
          "mesh3d": [
           {
            "colorbar": {
             "outlinewidth": 0,
             "ticks": ""
            },
            "type": "mesh3d"
           }
          ],
          "parcoords": [
           {
            "line": {
             "colorbar": {
              "outlinewidth": 0,
              "ticks": ""
             }
            },
            "type": "parcoords"
           }
          ],
          "pie": [
           {
            "automargin": true,
            "type": "pie"
           }
          ],
          "scatter": [
           {
            "fillpattern": {
             "fillmode": "overlay",
             "size": 10,
             "solidity": 0.2
            },
            "type": "scatter"
           }
          ],
          "scatter3d": [
           {
            "line": {
             "colorbar": {
              "outlinewidth": 0,
              "ticks": ""
             }
            },
            "marker": {
             "colorbar": {
              "outlinewidth": 0,
              "ticks": ""
             }
            },
            "type": "scatter3d"
           }
          ],
          "scattercarpet": [
           {
            "marker": {
             "colorbar": {
              "outlinewidth": 0,
              "ticks": ""
             }
            },
            "type": "scattercarpet"
           }
          ],
          "scattergeo": [
           {
            "marker": {
             "colorbar": {
              "outlinewidth": 0,
              "ticks": ""
             }
            },
            "type": "scattergeo"
           }
          ],
          "scattergl": [
           {
            "marker": {
             "colorbar": {
              "outlinewidth": 0,
              "ticks": ""
             }
            },
            "type": "scattergl"
           }
          ],
          "scattermapbox": [
           {
            "marker": {
             "colorbar": {
              "outlinewidth": 0,
              "ticks": ""
             }
            },
            "type": "scattermapbox"
           }
          ],
          "scatterpolar": [
           {
            "marker": {
             "colorbar": {
              "outlinewidth": 0,
              "ticks": ""
             }
            },
            "type": "scatterpolar"
           }
          ],
          "scatterpolargl": [
           {
            "marker": {
             "colorbar": {
              "outlinewidth": 0,
              "ticks": ""
             }
            },
            "type": "scatterpolargl"
           }
          ],
          "scatterternary": [
           {
            "marker": {
             "colorbar": {
              "outlinewidth": 0,
              "ticks": ""
             }
            },
            "type": "scatterternary"
           }
          ],
          "surface": [
           {
            "colorbar": {
             "outlinewidth": 0,
             "ticks": ""
            },
            "colorscale": [
             [
              0,
              "#0d0887"
             ],
             [
              0.1111111111111111,
              "#46039f"
             ],
             [
              0.2222222222222222,
              "#7201a8"
             ],
             [
              0.3333333333333333,
              "#9c179e"
             ],
             [
              0.4444444444444444,
              "#bd3786"
             ],
             [
              0.5555555555555556,
              "#d8576b"
             ],
             [
              0.6666666666666666,
              "#ed7953"
             ],
             [
              0.7777777777777778,
              "#fb9f3a"
             ],
             [
              0.8888888888888888,
              "#fdca26"
             ],
             [
              1,
              "#f0f921"
             ]
            ],
            "type": "surface"
           }
          ],
          "table": [
           {
            "cells": {
             "fill": {
              "color": "#EBF0F8"
             },
             "line": {
              "color": "white"
             }
            },
            "header": {
             "fill": {
              "color": "#C8D4E3"
             },
             "line": {
              "color": "white"
             }
            },
            "type": "table"
           }
          ]
         },
         "layout": {
          "annotationdefaults": {
           "arrowcolor": "#2a3f5f",
           "arrowhead": 0,
           "arrowwidth": 1
          },
          "autotypenumbers": "strict",
          "coloraxis": {
           "colorbar": {
            "outlinewidth": 0,
            "ticks": ""
           }
          },
          "colorscale": {
           "diverging": [
            [
             0,
             "#8e0152"
            ],
            [
             0.1,
             "#c51b7d"
            ],
            [
             0.2,
             "#de77ae"
            ],
            [
             0.3,
             "#f1b6da"
            ],
            [
             0.4,
             "#fde0ef"
            ],
            [
             0.5,
             "#f7f7f7"
            ],
            [
             0.6,
             "#e6f5d0"
            ],
            [
             0.7,
             "#b8e186"
            ],
            [
             0.8,
             "#7fbc41"
            ],
            [
             0.9,
             "#4d9221"
            ],
            [
             1,
             "#276419"
            ]
           ],
           "sequential": [
            [
             0,
             "#0d0887"
            ],
            [
             0.1111111111111111,
             "#46039f"
            ],
            [
             0.2222222222222222,
             "#7201a8"
            ],
            [
             0.3333333333333333,
             "#9c179e"
            ],
            [
             0.4444444444444444,
             "#bd3786"
            ],
            [
             0.5555555555555556,
             "#d8576b"
            ],
            [
             0.6666666666666666,
             "#ed7953"
            ],
            [
             0.7777777777777778,
             "#fb9f3a"
            ],
            [
             0.8888888888888888,
             "#fdca26"
            ],
            [
             1,
             "#f0f921"
            ]
           ],
           "sequentialminus": [
            [
             0,
             "#0d0887"
            ],
            [
             0.1111111111111111,
             "#46039f"
            ],
            [
             0.2222222222222222,
             "#7201a8"
            ],
            [
             0.3333333333333333,
             "#9c179e"
            ],
            [
             0.4444444444444444,
             "#bd3786"
            ],
            [
             0.5555555555555556,
             "#d8576b"
            ],
            [
             0.6666666666666666,
             "#ed7953"
            ],
            [
             0.7777777777777778,
             "#fb9f3a"
            ],
            [
             0.8888888888888888,
             "#fdca26"
            ],
            [
             1,
             "#f0f921"
            ]
           ]
          },
          "colorway": [
           "#636efa",
           "#EF553B",
           "#00cc96",
           "#ab63fa",
           "#FFA15A",
           "#19d3f3",
           "#FF6692",
           "#B6E880",
           "#FF97FF",
           "#FECB52"
          ],
          "font": {
           "color": "#2a3f5f"
          },
          "geo": {
           "bgcolor": "white",
           "lakecolor": "white",
           "landcolor": "#E5ECF6",
           "showlakes": true,
           "showland": true,
           "subunitcolor": "white"
          },
          "hoverlabel": {
           "align": "left"
          },
          "hovermode": "closest",
          "mapbox": {
           "style": "light"
          },
          "paper_bgcolor": "white",
          "plot_bgcolor": "#E5ECF6",
          "polar": {
           "angularaxis": {
            "gridcolor": "white",
            "linecolor": "white",
            "ticks": ""
           },
           "bgcolor": "#E5ECF6",
           "radialaxis": {
            "gridcolor": "white",
            "linecolor": "white",
            "ticks": ""
           }
          },
          "scene": {
           "xaxis": {
            "backgroundcolor": "#E5ECF6",
            "gridcolor": "white",
            "gridwidth": 2,
            "linecolor": "white",
            "showbackground": true,
            "ticks": "",
            "zerolinecolor": "white"
           },
           "yaxis": {
            "backgroundcolor": "#E5ECF6",
            "gridcolor": "white",
            "gridwidth": 2,
            "linecolor": "white",
            "showbackground": true,
            "ticks": "",
            "zerolinecolor": "white"
           },
           "zaxis": {
            "backgroundcolor": "#E5ECF6",
            "gridcolor": "white",
            "gridwidth": 2,
            "linecolor": "white",
            "showbackground": true,
            "ticks": "",
            "zerolinecolor": "white"
           }
          },
          "shapedefaults": {
           "line": {
            "color": "#2a3f5f"
           }
          },
          "ternary": {
           "aaxis": {
            "gridcolor": "white",
            "linecolor": "white",
            "ticks": ""
           },
           "baxis": {
            "gridcolor": "white",
            "linecolor": "white",
            "ticks": ""
           },
           "bgcolor": "#E5ECF6",
           "caxis": {
            "gridcolor": "white",
            "linecolor": "white",
            "ticks": ""
           }
          },
          "title": {
           "x": 0.05
          },
          "xaxis": {
           "automargin": true,
           "gridcolor": "white",
           "linecolor": "white",
           "ticks": "",
           "title": {
            "standoff": 15
           },
           "zerolinecolor": "white",
           "zerolinewidth": 2
          },
          "yaxis": {
           "automargin": true,
           "gridcolor": "white",
           "linecolor": "white",
           "ticks": "",
           "title": {
            "standoff": 15
           },
           "zerolinecolor": "white",
           "zerolinewidth": 2
          }
         }
        },
        "xaxis": {
         "dtick": 1,
         "gridwidth": 2,
         "showticklabels": false,
         "tick0": -0.5,
         "ticks": "",
         "zeroline": false
        },
        "yaxis": {
         "autorange": "reversed",
         "dtick": 1,
         "gridwidth": 2,
         "showticklabels": false,
         "tick0": 0.5,
         "ticks": "",
         "zeroline": false
        }
       }
      }
     },
     "metadata": {},
     "output_type": "display_data"
    }
   ],
   "source": [
    "# pretty table\n",
    "\n",
    "table = ff.create_table(df_som[['YearWeek', 'rfe_filled','Month', 'Month_Name', 'WeekNum', 'Quarter',\n",
    "       'Day']].head(4))\n",
    "table\n",
    "     "
   ]
  },
  {
   "cell_type": "code",
   "execution_count": 188,
   "metadata": {},
   "outputs": [
    {
     "data": {
      "text/html": [
       "<div>\n",
       "<style scoped>\n",
       "    .dataframe tbody tr th:only-of-type {\n",
       "        vertical-align: middle;\n",
       "    }\n",
       "\n",
       "    .dataframe tbody tr th {\n",
       "        vertical-align: top;\n",
       "    }\n",
       "\n",
       "    .dataframe thead th {\n",
       "        text-align: right;\n",
       "    }\n",
       "</style>\n",
       "<table border=\"1\" class=\"dataframe\">\n",
       "  <thead>\n",
       "    <tr style=\"text-align: right;\">\n",
       "      <th></th>\n",
       "      <th>YearWeek</th>\n",
       "      <th>Date</th>\n",
       "      <th>rfe_filled</th>\n",
       "      <th>Month</th>\n",
       "      <th>Month_Name</th>\n",
       "      <th>WeekNum</th>\n",
       "      <th>Quarter</th>\n",
       "      <th>Day</th>\n",
       "      <th>WeekinMonth</th>\n",
       "      <th>Mean_weekly_rainfall</th>\n",
       "    </tr>\n",
       "  </thead>\n",
       "  <tbody>\n",
       "    <tr>\n",
       "      <th>0</th>\n",
       "      <td>198301</td>\n",
       "      <td>1983-01-03</td>\n",
       "      <td>0.66</td>\n",
       "      <td>1</td>\n",
       "      <td>Jan</td>\n",
       "      <td>1</td>\n",
       "      <td>1</td>\n",
       "      <td>3</td>\n",
       "      <td>1</td>\n",
       "      <td>0.486383</td>\n",
       "    </tr>\n",
       "    <tr>\n",
       "      <th>1</th>\n",
       "      <td>198302</td>\n",
       "      <td>1983-01-10</td>\n",
       "      <td>0.02</td>\n",
       "      <td>1</td>\n",
       "      <td>Jan</td>\n",
       "      <td>2</td>\n",
       "      <td>1</td>\n",
       "      <td>10</td>\n",
       "      <td>2</td>\n",
       "      <td>0.104250</td>\n",
       "    </tr>\n",
       "    <tr>\n",
       "      <th>2</th>\n",
       "      <td>198303</td>\n",
       "      <td>1983-01-17</td>\n",
       "      <td>0.00</td>\n",
       "      <td>1</td>\n",
       "      <td>Jan</td>\n",
       "      <td>3</td>\n",
       "      <td>1</td>\n",
       "      <td>17</td>\n",
       "      <td>3</td>\n",
       "      <td>0.139500</td>\n",
       "    </tr>\n",
       "    <tr>\n",
       "      <th>3</th>\n",
       "      <td>198304</td>\n",
       "      <td>1983-01-24</td>\n",
       "      <td>0.00</td>\n",
       "      <td>1</td>\n",
       "      <td>Jan</td>\n",
       "      <td>4</td>\n",
       "      <td>1</td>\n",
       "      <td>24</td>\n",
       "      <td>4</td>\n",
       "      <td>0.088000</td>\n",
       "    </tr>\n",
       "  </tbody>\n",
       "</table>\n",
       "</div>"
      ],
      "text/plain": [
       "  YearWeek       Date  rfe_filled  Month Month_Name  WeekNum  Quarter  Day  \\\n",
       "0   198301 1983-01-03        0.66      1        Jan        1        1    3   \n",
       "1   198302 1983-01-10        0.02      1        Jan        2        1   10   \n",
       "2   198303 1983-01-17        0.00      1        Jan        3        1   17   \n",
       "3   198304 1983-01-24        0.00      1        Jan        4        1   24   \n",
       "\n",
       "   WeekinMonth  Mean_weekly_rainfall  \n",
       "0            1              0.486383  \n",
       "1            2              0.104250  \n",
       "2            3              0.139500  \n",
       "3            4              0.088000  "
      ]
     },
     "execution_count": 188,
     "metadata": {},
     "output_type": "execute_result"
    }
   ],
   "source": [
    "# mean rainfall everyweek \n",
    "\n",
    "df_som['Mean_weekly_rainfall'] = df_som.groupby(['WeekNum'])['rfe_filled'].transform(np.mean)\n",
    "\n",
    "df_som.head(4)"
   ]
  },
  {
   "cell_type": "code",
   "execution_count": 189,
   "metadata": {},
   "outputs": [
    {
     "data": {
      "text/html": [
       "<div>\n",
       "<style scoped>\n",
       "    .dataframe tbody tr th:only-of-type {\n",
       "        vertical-align: middle;\n",
       "    }\n",
       "\n",
       "    .dataframe tbody tr th {\n",
       "        vertical-align: top;\n",
       "    }\n",
       "\n",
       "    .dataframe thead th {\n",
       "        text-align: right;\n",
       "    }\n",
       "</style>\n",
       "<table border=\"1\" class=\"dataframe\">\n",
       "  <thead>\n",
       "    <tr style=\"text-align: right;\">\n",
       "      <th></th>\n",
       "      <th>YearWeek</th>\n",
       "      <th>Date</th>\n",
       "      <th>rfe_filled</th>\n",
       "      <th>Month</th>\n",
       "      <th>Month_Name</th>\n",
       "      <th>WeekNum</th>\n",
       "      <th>Quarter</th>\n",
       "      <th>Day</th>\n",
       "      <th>WeekinMonth</th>\n",
       "      <th>Mean_weekly_rainfall</th>\n",
       "    </tr>\n",
       "  </thead>\n",
       "  <tbody>\n",
       "    <tr>\n",
       "      <th>14</th>\n",
       "      <td>198315</td>\n",
       "      <td>1983-04-11</td>\n",
       "      <td>6.11</td>\n",
       "      <td>4</td>\n",
       "      <td>Apr</td>\n",
       "      <td>15</td>\n",
       "      <td>2</td>\n",
       "      <td>11</td>\n",
       "      <td>2</td>\n",
       "      <td>19.113590</td>\n",
       "    </tr>\n",
       "    <tr>\n",
       "      <th>15</th>\n",
       "      <td>198316</td>\n",
       "      <td>1983-04-18</td>\n",
       "      <td>6.66</td>\n",
       "      <td>4</td>\n",
       "      <td>Apr</td>\n",
       "      <td>16</td>\n",
       "      <td>2</td>\n",
       "      <td>18</td>\n",
       "      <td>3</td>\n",
       "      <td>16.929231</td>\n",
       "    </tr>\n",
       "    <tr>\n",
       "      <th>16</th>\n",
       "      <td>198317</td>\n",
       "      <td>1983-04-25</td>\n",
       "      <td>15.96</td>\n",
       "      <td>4</td>\n",
       "      <td>Apr</td>\n",
       "      <td>17</td>\n",
       "      <td>2</td>\n",
       "      <td>25</td>\n",
       "      <td>4</td>\n",
       "      <td>18.496923</td>\n",
       "    </tr>\n",
       "    <tr>\n",
       "      <th>17</th>\n",
       "      <td>198318</td>\n",
       "      <td>1983-05-02</td>\n",
       "      <td>14.82</td>\n",
       "      <td>5</td>\n",
       "      <td>May</td>\n",
       "      <td>18</td>\n",
       "      <td>2</td>\n",
       "      <td>2</td>\n",
       "      <td>1</td>\n",
       "      <td>18.171795</td>\n",
       "    </tr>\n",
       "    <tr>\n",
       "      <th>18</th>\n",
       "      <td>198319</td>\n",
       "      <td>1983-05-09</td>\n",
       "      <td>3.97</td>\n",
       "      <td>5</td>\n",
       "      <td>May</td>\n",
       "      <td>19</td>\n",
       "      <td>2</td>\n",
       "      <td>9</td>\n",
       "      <td>2</td>\n",
       "      <td>16.349231</td>\n",
       "    </tr>\n",
       "  </tbody>\n",
       "</table>\n",
       "</div>"
      ],
      "text/plain": [
       "   YearWeek       Date  rfe_filled  Month Month_Name  WeekNum  Quarter  Day  \\\n",
       "14   198315 1983-04-11        6.11      4        Apr       15        2   11   \n",
       "15   198316 1983-04-18        6.66      4        Apr       16        2   18   \n",
       "16   198317 1983-04-25       15.96      4        Apr       17        2   25   \n",
       "17   198318 1983-05-02       14.82      5        May       18        2    2   \n",
       "18   198319 1983-05-09        3.97      5        May       19        2    9   \n",
       "\n",
       "    WeekinMonth  Mean_weekly_rainfall  \n",
       "14            2             19.113590  \n",
       "15            3             16.929231  \n",
       "16            4             18.496923  \n",
       "17            1             18.171795  \n",
       "18            2             16.349231  "
      ]
     },
     "execution_count": 189,
     "metadata": {},
     "output_type": "execute_result"
    }
   ],
   "source": [
    "df_som[14:].head()"
   ]
  },
  {
   "cell_type": "code",
   "execution_count": 190,
   "metadata": {},
   "outputs": [
    {
     "data": {
      "text/html": [
       "<div>\n",
       "<style scoped>\n",
       "    .dataframe tbody tr th:only-of-type {\n",
       "        vertical-align: middle;\n",
       "    }\n",
       "\n",
       "    .dataframe tbody tr th {\n",
       "        vertical-align: top;\n",
       "    }\n",
       "\n",
       "    .dataframe thead th {\n",
       "        text-align: right;\n",
       "    }\n",
       "</style>\n",
       "<table border=\"1\" class=\"dataframe\">\n",
       "  <thead>\n",
       "    <tr style=\"text-align: right;\">\n",
       "      <th></th>\n",
       "      <th>YearWeek</th>\n",
       "      <th>Date</th>\n",
       "      <th>rfe_filled</th>\n",
       "      <th>Month</th>\n",
       "      <th>Month_Name</th>\n",
       "      <th>WeekNum</th>\n",
       "      <th>Quarter</th>\n",
       "      <th>Day</th>\n",
       "      <th>WeekinMonth</th>\n",
       "      <th>Mean_weekly_rainfall</th>\n",
       "      <th>Rain_Season</th>\n",
       "    </tr>\n",
       "  </thead>\n",
       "  <tbody>\n",
       "    <tr>\n",
       "      <th>10</th>\n",
       "      <td>198311</td>\n",
       "      <td>1983-03-14</td>\n",
       "      <td>0.01</td>\n",
       "      <td>3</td>\n",
       "      <td>Mar</td>\n",
       "      <td>11</td>\n",
       "      <td>1</td>\n",
       "      <td>14</td>\n",
       "      <td>2</td>\n",
       "      <td>2.261282</td>\n",
       "      <td>0</td>\n",
       "    </tr>\n",
       "    <tr>\n",
       "      <th>11</th>\n",
       "      <td>198312</td>\n",
       "      <td>1983-03-21</td>\n",
       "      <td>0.08</td>\n",
       "      <td>3</td>\n",
       "      <td>Mar</td>\n",
       "      <td>12</td>\n",
       "      <td>1</td>\n",
       "      <td>21</td>\n",
       "      <td>3</td>\n",
       "      <td>3.281795</td>\n",
       "      <td>0</td>\n",
       "    </tr>\n",
       "    <tr>\n",
       "      <th>12</th>\n",
       "      <td>198313</td>\n",
       "      <td>1983-03-28</td>\n",
       "      <td>1.14</td>\n",
       "      <td>3</td>\n",
       "      <td>Mar</td>\n",
       "      <td>13</td>\n",
       "      <td>1</td>\n",
       "      <td>28</td>\n",
       "      <td>4</td>\n",
       "      <td>10.301026</td>\n",
       "      <td>0</td>\n",
       "    </tr>\n",
       "    <tr>\n",
       "      <th>13</th>\n",
       "      <td>198314</td>\n",
       "      <td>1983-04-04</td>\n",
       "      <td>8.14</td>\n",
       "      <td>4</td>\n",
       "      <td>Apr</td>\n",
       "      <td>14</td>\n",
       "      <td>2</td>\n",
       "      <td>4</td>\n",
       "      <td>1</td>\n",
       "      <td>12.858205</td>\n",
       "      <td>1</td>\n",
       "    </tr>\n",
       "    <tr>\n",
       "      <th>14</th>\n",
       "      <td>198315</td>\n",
       "      <td>1983-04-11</td>\n",
       "      <td>6.11</td>\n",
       "      <td>4</td>\n",
       "      <td>Apr</td>\n",
       "      <td>15</td>\n",
       "      <td>2</td>\n",
       "      <td>11</td>\n",
       "      <td>2</td>\n",
       "      <td>19.113590</td>\n",
       "      <td>1</td>\n",
       "    </tr>\n",
       "  </tbody>\n",
       "</table>\n",
       "</div>"
      ],
      "text/plain": [
       "   YearWeek       Date  rfe_filled  Month Month_Name  WeekNum  Quarter  Day  \\\n",
       "10   198311 1983-03-14        0.01      3        Mar       11        1   14   \n",
       "11   198312 1983-03-21        0.08      3        Mar       12        1   21   \n",
       "12   198313 1983-03-28        1.14      3        Mar       13        1   28   \n",
       "13   198314 1983-04-04        8.14      4        Apr       14        2    4   \n",
       "14   198315 1983-04-11        6.11      4        Apr       15        2   11   \n",
       "\n",
       "    WeekinMonth  Mean_weekly_rainfall  Rain_Season  \n",
       "10            2              2.261282            0  \n",
       "11            3              3.281795            0  \n",
       "12            4             10.301026            0  \n",
       "13            1             12.858205            1  \n",
       "14            2             19.113590            1  "
      ]
     },
     "execution_count": 190,
     "metadata": {},
     "output_type": "execute_result"
    }
   ],
   "source": [
    "# rain season flag\n",
    "df_som['Rain_Season'] = (df_som['Quarter'] == 2) | (df_som['Quarter'] == 4) \n",
    "df_som[\"Rain_Season\"] = df_som[\"Rain_Season\"].astype(int)\n",
    "df_som[10:].head()"
   ]
  },
  {
   "cell_type": "code",
   "execution_count": 191,
   "metadata": {},
   "outputs": [
    {
     "name": "stdout",
     "output_type": "stream",
     "text": [
      "1021\n"
     ]
    }
   ],
   "source": [
    "print(len(df_som[(df_som['Rain_Season'] == 1)]))"
   ]
  },
  {
   "cell_type": "code",
   "execution_count": 192,
   "metadata": {},
   "outputs": [
    {
     "data": {
      "text/html": [
       "<div>\n",
       "<style scoped>\n",
       "    .dataframe tbody tr th:only-of-type {\n",
       "        vertical-align: middle;\n",
       "    }\n",
       "\n",
       "    .dataframe tbody tr th {\n",
       "        vertical-align: top;\n",
       "    }\n",
       "\n",
       "    .dataframe thead th {\n",
       "        text-align: right;\n",
       "    }\n",
       "</style>\n",
       "<table border=\"1\" class=\"dataframe\">\n",
       "  <thead>\n",
       "    <tr style=\"text-align: right;\">\n",
       "      <th></th>\n",
       "      <th>YearWeek</th>\n",
       "      <th>Date</th>\n",
       "      <th>rfe_filled</th>\n",
       "      <th>Month</th>\n",
       "      <th>Month_Name</th>\n",
       "      <th>WeekNum</th>\n",
       "      <th>Quarter</th>\n",
       "      <th>Day</th>\n",
       "      <th>WeekinMonth</th>\n",
       "      <th>Mean_weekly_rainfall</th>\n",
       "      <th>Rain_Season</th>\n",
       "      <th>Drought</th>\n",
       "    </tr>\n",
       "  </thead>\n",
       "  <tbody>\n",
       "    <tr>\n",
       "      <th>10</th>\n",
       "      <td>198311</td>\n",
       "      <td>1983-03-14</td>\n",
       "      <td>0.01</td>\n",
       "      <td>3</td>\n",
       "      <td>Mar</td>\n",
       "      <td>11</td>\n",
       "      <td>1</td>\n",
       "      <td>14</td>\n",
       "      <td>2</td>\n",
       "      <td>2.261282</td>\n",
       "      <td>0</td>\n",
       "      <td>0</td>\n",
       "    </tr>\n",
       "    <tr>\n",
       "      <th>11</th>\n",
       "      <td>198312</td>\n",
       "      <td>1983-03-21</td>\n",
       "      <td>0.08</td>\n",
       "      <td>3</td>\n",
       "      <td>Mar</td>\n",
       "      <td>12</td>\n",
       "      <td>1</td>\n",
       "      <td>21</td>\n",
       "      <td>3</td>\n",
       "      <td>3.281795</td>\n",
       "      <td>0</td>\n",
       "      <td>0</td>\n",
       "    </tr>\n",
       "    <tr>\n",
       "      <th>12</th>\n",
       "      <td>198313</td>\n",
       "      <td>1983-03-28</td>\n",
       "      <td>1.14</td>\n",
       "      <td>3</td>\n",
       "      <td>Mar</td>\n",
       "      <td>13</td>\n",
       "      <td>1</td>\n",
       "      <td>28</td>\n",
       "      <td>4</td>\n",
       "      <td>10.301026</td>\n",
       "      <td>0</td>\n",
       "      <td>0</td>\n",
       "    </tr>\n",
       "    <tr>\n",
       "      <th>13</th>\n",
       "      <td>198314</td>\n",
       "      <td>1983-04-04</td>\n",
       "      <td>8.14</td>\n",
       "      <td>4</td>\n",
       "      <td>Apr</td>\n",
       "      <td>14</td>\n",
       "      <td>2</td>\n",
       "      <td>4</td>\n",
       "      <td>1</td>\n",
       "      <td>12.858205</td>\n",
       "      <td>1</td>\n",
       "      <td>1</td>\n",
       "    </tr>\n",
       "    <tr>\n",
       "      <th>14</th>\n",
       "      <td>198315</td>\n",
       "      <td>1983-04-11</td>\n",
       "      <td>6.11</td>\n",
       "      <td>4</td>\n",
       "      <td>Apr</td>\n",
       "      <td>15</td>\n",
       "      <td>2</td>\n",
       "      <td>11</td>\n",
       "      <td>2</td>\n",
       "      <td>19.113590</td>\n",
       "      <td>1</td>\n",
       "      <td>1</td>\n",
       "    </tr>\n",
       "  </tbody>\n",
       "</table>\n",
       "</div>"
      ],
      "text/plain": [
       "   YearWeek       Date  rfe_filled  Month Month_Name  WeekNum  Quarter  Day  \\\n",
       "10   198311 1983-03-14        0.01      3        Mar       11        1   14   \n",
       "11   198312 1983-03-21        0.08      3        Mar       12        1   21   \n",
       "12   198313 1983-03-28        1.14      3        Mar       13        1   28   \n",
       "13   198314 1983-04-04        8.14      4        Apr       14        2    4   \n",
       "14   198315 1983-04-11        6.11      4        Apr       15        2   11   \n",
       "\n",
       "    WeekinMonth  Mean_weekly_rainfall  Rain_Season  Drought  \n",
       "10            2              2.261282            0        0  \n",
       "11            3              3.281795            0        0  \n",
       "12            4             10.301026            0        0  \n",
       "13            1             12.858205            1        1  \n",
       "14            2             19.113590            1        1  "
      ]
     },
     "execution_count": 192,
     "metadata": {},
     "output_type": "execute_result"
    }
   ],
   "source": [
    "# boolean condition if rain season flag and rainfall < mean weekly rainfall == drought\n",
    "df_som['Drought'] = (df_som['Rain_Season'] == 1) & (df_som['rfe_filled'] < df_som['Mean_weekly_rainfall']) \n",
    "df_som[\"Drought\"] = df_som[\"Drought\"].astype(int)\n",
    "df_som[10:].head()"
   ]
  },
  {
   "cell_type": "code",
   "execution_count": 193,
   "metadata": {},
   "outputs": [
    {
     "data": {
      "text/html": [
       "<div>\n",
       "<style scoped>\n",
       "    .dataframe tbody tr th:only-of-type {\n",
       "        vertical-align: middle;\n",
       "    }\n",
       "\n",
       "    .dataframe tbody tr th {\n",
       "        vertical-align: top;\n",
       "    }\n",
       "\n",
       "    .dataframe thead th {\n",
       "        text-align: right;\n",
       "    }\n",
       "</style>\n",
       "<table border=\"1\" class=\"dataframe\">\n",
       "  <thead>\n",
       "    <tr style=\"text-align: right;\">\n",
       "      <th></th>\n",
       "      <th>YearWeek</th>\n",
       "      <th>Date</th>\n",
       "      <th>rfe_filled</th>\n",
       "      <th>Month</th>\n",
       "      <th>Month_Name</th>\n",
       "      <th>WeekNum</th>\n",
       "      <th>Quarter</th>\n",
       "      <th>Day</th>\n",
       "      <th>WeekinMonth</th>\n",
       "      <th>Mean_weekly_rainfall</th>\n",
       "      <th>Rain_Season</th>\n",
       "      <th>Drought</th>\n",
       "    </tr>\n",
       "  </thead>\n",
       "  <tbody>\n",
       "    <tr>\n",
       "      <th>0</th>\n",
       "      <td>198301</td>\n",
       "      <td>1983-01-03</td>\n",
       "      <td>0.66</td>\n",
       "      <td>1</td>\n",
       "      <td>Jan</td>\n",
       "      <td>1</td>\n",
       "      <td>1</td>\n",
       "      <td>3</td>\n",
       "      <td>1</td>\n",
       "      <td>0.486383</td>\n",
       "      <td>0</td>\n",
       "      <td>0</td>\n",
       "    </tr>\n",
       "    <tr>\n",
       "      <th>1</th>\n",
       "      <td>198302</td>\n",
       "      <td>1983-01-10</td>\n",
       "      <td>0.02</td>\n",
       "      <td>1</td>\n",
       "      <td>Jan</td>\n",
       "      <td>2</td>\n",
       "      <td>1</td>\n",
       "      <td>10</td>\n",
       "      <td>2</td>\n",
       "      <td>0.104250</td>\n",
       "      <td>0</td>\n",
       "      <td>0</td>\n",
       "    </tr>\n",
       "    <tr>\n",
       "      <th>2</th>\n",
       "      <td>198303</td>\n",
       "      <td>1983-01-17</td>\n",
       "      <td>0.00</td>\n",
       "      <td>1</td>\n",
       "      <td>Jan</td>\n",
       "      <td>3</td>\n",
       "      <td>1</td>\n",
       "      <td>17</td>\n",
       "      <td>3</td>\n",
       "      <td>0.139500</td>\n",
       "      <td>0</td>\n",
       "      <td>0</td>\n",
       "    </tr>\n",
       "    <tr>\n",
       "      <th>3</th>\n",
       "      <td>198304</td>\n",
       "      <td>1983-01-24</td>\n",
       "      <td>0.00</td>\n",
       "      <td>1</td>\n",
       "      <td>Jan</td>\n",
       "      <td>4</td>\n",
       "      <td>1</td>\n",
       "      <td>24</td>\n",
       "      <td>4</td>\n",
       "      <td>0.088000</td>\n",
       "      <td>0</td>\n",
       "      <td>0</td>\n",
       "    </tr>\n",
       "    <tr>\n",
       "      <th>4</th>\n",
       "      <td>198305</td>\n",
       "      <td>1983-01-31</td>\n",
       "      <td>0.35</td>\n",
       "      <td>1</td>\n",
       "      <td>Jan</td>\n",
       "      <td>5</td>\n",
       "      <td>1</td>\n",
       "      <td>31</td>\n",
       "      <td>5</td>\n",
       "      <td>0.070750</td>\n",
       "      <td>0</td>\n",
       "      <td>0</td>\n",
       "    </tr>\n",
       "  </tbody>\n",
       "</table>\n",
       "</div>"
      ],
      "text/plain": [
       "  YearWeek       Date  rfe_filled  Month Month_Name  WeekNum  Quarter  Day  \\\n",
       "0   198301 1983-01-03        0.66      1        Jan        1        1    3   \n",
       "1   198302 1983-01-10        0.02      1        Jan        2        1   10   \n",
       "2   198303 1983-01-17        0.00      1        Jan        3        1   17   \n",
       "3   198304 1983-01-24        0.00      1        Jan        4        1   24   \n",
       "4   198305 1983-01-31        0.35      1        Jan        5        1   31   \n",
       "\n",
       "   WeekinMonth  Mean_weekly_rainfall  Rain_Season  Drought  \n",
       "0            1              0.486383            0        0  \n",
       "1            2              0.104250            0        0  \n",
       "2            3              0.139500            0        0  \n",
       "3            4              0.088000            0        0  \n",
       "4            5              0.070750            0        0  "
      ]
     },
     "execution_count": 193,
     "metadata": {},
     "output_type": "execute_result"
    }
   ],
   "source": [
    "df_som.head()"
   ]
  },
  {
   "cell_type": "code",
   "execution_count": 194,
   "metadata": {},
   "outputs": [
    {
     "data": {
      "text/html": [
       "<div>\n",
       "<style scoped>\n",
       "    .dataframe tbody tr th:only-of-type {\n",
       "        vertical-align: middle;\n",
       "    }\n",
       "\n",
       "    .dataframe tbody tr th {\n",
       "        vertical-align: top;\n",
       "    }\n",
       "\n",
       "    .dataframe thead th {\n",
       "        text-align: right;\n",
       "    }\n",
       "</style>\n",
       "<table border=\"1\" class=\"dataframe\">\n",
       "  <thead>\n",
       "    <tr style=\"text-align: right;\">\n",
       "      <th></th>\n",
       "      <th>YearWeek</th>\n",
       "      <th>Date</th>\n",
       "      <th>rfe_filled</th>\n",
       "      <th>Month</th>\n",
       "      <th>Month_Name</th>\n",
       "      <th>WeekNum</th>\n",
       "      <th>Quarter</th>\n",
       "      <th>Day</th>\n",
       "      <th>WeekinMonth</th>\n",
       "      <th>Mean_weekly_rainfall</th>\n",
       "      <th>Rain_Season</th>\n",
       "      <th>Drought</th>\n",
       "    </tr>\n",
       "  </thead>\n",
       "  <tbody>\n",
       "    <tr>\n",
       "      <th>13</th>\n",
       "      <td>198314</td>\n",
       "      <td>1983-04-04</td>\n",
       "      <td>8.14</td>\n",
       "      <td>4</td>\n",
       "      <td>Apr</td>\n",
       "      <td>14</td>\n",
       "      <td>2</td>\n",
       "      <td>4</td>\n",
       "      <td>1</td>\n",
       "      <td>12.858205</td>\n",
       "      <td>1</td>\n",
       "      <td>1</td>\n",
       "    </tr>\n",
       "    <tr>\n",
       "      <th>14</th>\n",
       "      <td>198315</td>\n",
       "      <td>1983-04-11</td>\n",
       "      <td>6.11</td>\n",
       "      <td>4</td>\n",
       "      <td>Apr</td>\n",
       "      <td>15</td>\n",
       "      <td>2</td>\n",
       "      <td>11</td>\n",
       "      <td>2</td>\n",
       "      <td>19.113590</td>\n",
       "      <td>1</td>\n",
       "      <td>1</td>\n",
       "    </tr>\n",
       "    <tr>\n",
       "      <th>15</th>\n",
       "      <td>198316</td>\n",
       "      <td>1983-04-18</td>\n",
       "      <td>6.66</td>\n",
       "      <td>4</td>\n",
       "      <td>Apr</td>\n",
       "      <td>16</td>\n",
       "      <td>2</td>\n",
       "      <td>18</td>\n",
       "      <td>3</td>\n",
       "      <td>16.929231</td>\n",
       "      <td>1</td>\n",
       "      <td>1</td>\n",
       "    </tr>\n",
       "    <tr>\n",
       "      <th>16</th>\n",
       "      <td>198317</td>\n",
       "      <td>1983-04-25</td>\n",
       "      <td>15.96</td>\n",
       "      <td>4</td>\n",
       "      <td>Apr</td>\n",
       "      <td>17</td>\n",
       "      <td>2</td>\n",
       "      <td>25</td>\n",
       "      <td>4</td>\n",
       "      <td>18.496923</td>\n",
       "      <td>1</td>\n",
       "      <td>1</td>\n",
       "    </tr>\n",
       "    <tr>\n",
       "      <th>17</th>\n",
       "      <td>198318</td>\n",
       "      <td>1983-05-02</td>\n",
       "      <td>14.82</td>\n",
       "      <td>5</td>\n",
       "      <td>May</td>\n",
       "      <td>18</td>\n",
       "      <td>2</td>\n",
       "      <td>2</td>\n",
       "      <td>1</td>\n",
       "      <td>18.171795</td>\n",
       "      <td>1</td>\n",
       "      <td>1</td>\n",
       "    </tr>\n",
       "    <tr>\n",
       "      <th>...</th>\n",
       "      <td>...</td>\n",
       "      <td>...</td>\n",
       "      <td>...</td>\n",
       "      <td>...</td>\n",
       "      <td>...</td>\n",
       "      <td>...</td>\n",
       "      <td>...</td>\n",
       "      <td>...</td>\n",
       "      <td>...</td>\n",
       "      <td>...</td>\n",
       "      <td>...</td>\n",
       "      <td>...</td>\n",
       "    </tr>\n",
       "    <tr>\n",
       "      <th>2034</th>\n",
       "      <td>202146</td>\n",
       "      <td>2021-11-15</td>\n",
       "      <td>1.90</td>\n",
       "      <td>11</td>\n",
       "      <td>Nov</td>\n",
       "      <td>46</td>\n",
       "      <td>4</td>\n",
       "      <td>15</td>\n",
       "      <td>3</td>\n",
       "      <td>7.849744</td>\n",
       "      <td>1</td>\n",
       "      <td>1</td>\n",
       "    </tr>\n",
       "    <tr>\n",
       "      <th>2036</th>\n",
       "      <td>202148</td>\n",
       "      <td>2021-11-29</td>\n",
       "      <td>1.62</td>\n",
       "      <td>11</td>\n",
       "      <td>Nov</td>\n",
       "      <td>48</td>\n",
       "      <td>4</td>\n",
       "      <td>29</td>\n",
       "      <td>5</td>\n",
       "      <td>5.902051</td>\n",
       "      <td>1</td>\n",
       "      <td>1</td>\n",
       "    </tr>\n",
       "    <tr>\n",
       "      <th>2037</th>\n",
       "      <td>202149</td>\n",
       "      <td>2021-12-06</td>\n",
       "      <td>0.21</td>\n",
       "      <td>12</td>\n",
       "      <td>Dec</td>\n",
       "      <td>49</td>\n",
       "      <td>4</td>\n",
       "      <td>6</td>\n",
       "      <td>1</td>\n",
       "      <td>3.092564</td>\n",
       "      <td>1</td>\n",
       "      <td>1</td>\n",
       "    </tr>\n",
       "    <tr>\n",
       "      <th>2040</th>\n",
       "      <td>202152</td>\n",
       "      <td>2021-12-27</td>\n",
       "      <td>0.84</td>\n",
       "      <td>12</td>\n",
       "      <td>Dec</td>\n",
       "      <td>52</td>\n",
       "      <td>4</td>\n",
       "      <td>27</td>\n",
       "      <td>4</td>\n",
       "      <td>1.755750</td>\n",
       "      <td>1</td>\n",
       "      <td>1</td>\n",
       "    </tr>\n",
       "    <tr>\n",
       "      <th>2047</th>\n",
       "      <td>202252</td>\n",
       "      <td>2022-12-26</td>\n",
       "      <td>0.00</td>\n",
       "      <td>12</td>\n",
       "      <td>Dec</td>\n",
       "      <td>52</td>\n",
       "      <td>4</td>\n",
       "      <td>26</td>\n",
       "      <td>4</td>\n",
       "      <td>1.755750</td>\n",
       "      <td>1</td>\n",
       "      <td>1</td>\n",
       "    </tr>\n",
       "  </tbody>\n",
       "</table>\n",
       "<p>666 rows × 12 columns</p>\n",
       "</div>"
      ],
      "text/plain": [
       "     YearWeek       Date  rfe_filled  Month Month_Name  WeekNum  Quarter  Day  \\\n",
       "13     198314 1983-04-04        8.14      4        Apr       14        2    4   \n",
       "14     198315 1983-04-11        6.11      4        Apr       15        2   11   \n",
       "15     198316 1983-04-18        6.66      4        Apr       16        2   18   \n",
       "16     198317 1983-04-25       15.96      4        Apr       17        2   25   \n",
       "17     198318 1983-05-02       14.82      5        May       18        2    2   \n",
       "...       ...        ...         ...    ...        ...      ...      ...  ...   \n",
       "2034   202146 2021-11-15        1.90     11        Nov       46        4   15   \n",
       "2036   202148 2021-11-29        1.62     11        Nov       48        4   29   \n",
       "2037   202149 2021-12-06        0.21     12        Dec       49        4    6   \n",
       "2040   202152 2021-12-27        0.84     12        Dec       52        4   27   \n",
       "2047   202252 2022-12-26        0.00     12        Dec       52        4   26   \n",
       "\n",
       "      WeekinMonth  Mean_weekly_rainfall  Rain_Season  Drought  \n",
       "13              1             12.858205            1        1  \n",
       "14              2             19.113590            1        1  \n",
       "15              3             16.929231            1        1  \n",
       "16              4             18.496923            1        1  \n",
       "17              1             18.171795            1        1  \n",
       "...           ...                   ...          ...      ...  \n",
       "2034            3              7.849744            1        1  \n",
       "2036            5              5.902051            1        1  \n",
       "2037            1              3.092564            1        1  \n",
       "2040            4              1.755750            1        1  \n",
       "2047            4              1.755750            1        1  \n",
       "\n",
       "[666 rows x 12 columns]"
      ]
     },
     "execution_count": 194,
     "metadata": {},
     "output_type": "execute_result"
    }
   ],
   "source": [
    "df_som[(df_som['Rain_Season'] == 1) & (df_som['rfe_filled'] < df_som['Mean_weekly_rainfall'])]"
   ]
  },
  {
   "cell_type": "code",
   "execution_count": 195,
   "metadata": {},
   "outputs": [
    {
     "data": {
      "text/html": [
       "<div>\n",
       "<style scoped>\n",
       "    .dataframe tbody tr th:only-of-type {\n",
       "        vertical-align: middle;\n",
       "    }\n",
       "\n",
       "    .dataframe tbody tr th {\n",
       "        vertical-align: top;\n",
       "    }\n",
       "\n",
       "    .dataframe thead th {\n",
       "        text-align: right;\n",
       "    }\n",
       "</style>\n",
       "<table border=\"1\" class=\"dataframe\">\n",
       "  <thead>\n",
       "    <tr style=\"text-align: right;\">\n",
       "      <th></th>\n",
       "      <th>time</th>\n",
       "      <th>rfe</th>\n",
       "      <th>rfe_filled</th>\n",
       "      <th>Month_Name</th>\n",
       "      <th>Year</th>\n",
       "      <th>Mean_monthly_rainfall</th>\n",
       "      <th>Quarter</th>\n",
       "      <th>Year_Quarter</th>\n",
       "      <th>Rain_Season</th>\n",
       "      <th>Drought</th>\n",
       "    </tr>\n",
       "  </thead>\n",
       "  <tbody>\n",
       "    <tr>\n",
       "      <th>0</th>\n",
       "      <td>1983-01-31</td>\n",
       "      <td>-999.00</td>\n",
       "      <td>0.89</td>\n",
       "      <td>Jan</td>\n",
       "      <td>1983</td>\n",
       "      <td>0.89</td>\n",
       "      <td>1</td>\n",
       "      <td>19831</td>\n",
       "      <td>0</td>\n",
       "      <td>0</td>\n",
       "    </tr>\n",
       "    <tr>\n",
       "      <th>1</th>\n",
       "      <td>1983-02-28</td>\n",
       "      <td>1.94</td>\n",
       "      <td>1.94</td>\n",
       "      <td>Feb</td>\n",
       "      <td>1983</td>\n",
       "      <td>1.94</td>\n",
       "      <td>1</td>\n",
       "      <td>19831</td>\n",
       "      <td>0</td>\n",
       "      <td>0</td>\n",
       "    </tr>\n",
       "    <tr>\n",
       "      <th>2</th>\n",
       "      <td>1983-03-31</td>\n",
       "      <td>0.19</td>\n",
       "      <td>0.19</td>\n",
       "      <td>Mar</td>\n",
       "      <td>1983</td>\n",
       "      <td>0.19</td>\n",
       "      <td>1</td>\n",
       "      <td>19831</td>\n",
       "      <td>0</td>\n",
       "      <td>0</td>\n",
       "    </tr>\n",
       "    <tr>\n",
       "      <th>3</th>\n",
       "      <td>1983-04-30</td>\n",
       "      <td>37.98</td>\n",
       "      <td>37.98</td>\n",
       "      <td>Apr</td>\n",
       "      <td>1983</td>\n",
       "      <td>37.98</td>\n",
       "      <td>2</td>\n",
       "      <td>19832</td>\n",
       "      <td>1</td>\n",
       "      <td>0</td>\n",
       "    </tr>\n",
       "    <tr>\n",
       "      <th>4</th>\n",
       "      <td>1983-05-31</td>\n",
       "      <td>64.30</td>\n",
       "      <td>64.30</td>\n",
       "      <td>May</td>\n",
       "      <td>1983</td>\n",
       "      <td>64.30</td>\n",
       "      <td>2</td>\n",
       "      <td>19832</td>\n",
       "      <td>1</td>\n",
       "      <td>0</td>\n",
       "    </tr>\n",
       "  </tbody>\n",
       "</table>\n",
       "</div>"
      ],
      "text/plain": [
       "        time     rfe  rfe_filled Month_Name  Year  Mean_monthly_rainfall  \\\n",
       "0 1983-01-31 -999.00        0.89        Jan  1983                   0.89   \n",
       "1 1983-02-28    1.94        1.94        Feb  1983                   1.94   \n",
       "2 1983-03-31    0.19        0.19        Mar  1983                   0.19   \n",
       "3 1983-04-30   37.98       37.98        Apr  1983                  37.98   \n",
       "4 1983-05-31   64.30       64.30        May  1983                  64.30   \n",
       "\n",
       "   Quarter Year_Quarter  Rain_Season  Drought  \n",
       "0        1        19831            0        0  \n",
       "1        1        19831            0        0  \n",
       "2        1        19831            0        0  \n",
       "3        2        19832            1        0  \n",
       "4        2        19832            1        0  "
      ]
     },
     "execution_count": 195,
     "metadata": {},
     "output_type": "execute_result"
    }
   ],
   "source": [
    "file1 = 'Datasets\\somalia_dataset.csv'\n",
    "\n",
    "df_monthly = pd.read_csv(file1, \n",
    "                         usecols=['time','rfe','rfe_filled'],\n",
    "                         parse_dates=['time'], dayfirst=True)\n",
    "df_monthly['Month_Name'] = df_monthly['time'].dt.strftime('%b')\n",
    "df_monthly['Year'] = df_monthly['time'].dt.year\n",
    "df_monthly['Mean_monthly_rainfall'] = df_monthly.groupby(['time'])['rfe_filled'].transform(np.mean)\n",
    "df_monthly['Quarter'] = df_monthly.apply(lambda x: x['time'].quarter, axis=1)\n",
    "df_monthly['Year_Quarter'] = df_monthly[['Year','Quarter']].astype(str).apply(''.join,1)\n",
    "df_monthly['Rain_Season'] = (df_monthly['Quarter'] == 2) | (df_monthly['Quarter'] == 4) \n",
    "df_monthly[\"Rain_Season\"] = df_monthly[\"Rain_Season\"].astype(int)\n",
    "df_monthly['Drought'] = (df_monthly['Rain_Season'] == 1) & (df_monthly['rfe'] < df_monthly['Mean_monthly_rainfall']) \n",
    "df_monthly[\"Drought\"] = df_monthly[\"Drought\"].astype(int)\n",
    "df_monthly.head()"
   ]
  },
  {
   "cell_type": "code",
   "execution_count": 196,
   "metadata": {},
   "outputs": [
    {
     "data": {
      "image/png": "[encoded data removed]",
      "text/plain": [
       "<Figure size 1008x288 with 3 Axes>"
      ]
     },
     "metadata": {},
     "output_type": "display_data"
    }
   ],
   "source": [
    "# rainfall amount by different aggregation level\n",
    "custom_dict = {'Jan': 0, 'Feb': 1, 'Mar': 3, 'Apr':4, 'May':5, 'Jun':6,\n",
    "               'Jul':7, 'Aug':8, 'Sep':9, 'Oct':10, 'Nov':11, 'Dec':12} \n",
    "\n",
    "year = df_monthly.groupby('Year').agg({'rfe_filled': 'sum'}).sort_index()\n",
    "month = df_monthly.groupby('Month_Name').agg({'rfe_filled': 'mean'}).sort_values(by=['Month_Name'], \n",
    "                                                                                    key=lambda x: x.map(custom_dict))\n",
    "\n",
    "quarter = df_monthly.groupby('Quarter').agg({'rfe_filled': 'mean'}).sort_index()\n",
    "\n",
    "fig, ax = plt.subplots(1, 3, figsize=(14, 4))\n",
    "fig.suptitle('The amount of rainfall By Different Date Aggregations', fontsize=20)\n",
    "\n",
    "ax[0].bar(month.index.values, month['rfe_filled'], label='Monthly')\n",
    "ax[0].xaxis.set_tick_params(rotation=80)\n",
    "ax[0].set_ylabel('rfe_filled');\n",
    "\n",
    "ax[1].bar(quarter.index.values, quarter['rfe_filled'], label='Quarter')\n",
    "ax[1].xaxis.set_tick_params(rotation=70);\n",
    "\n",
    "ax[2].bar(year.index.values, year['rfe_filled'], label='Yearly');"
   ]
  },
  {
   "cell_type": "code",
   "execution_count": 197,
   "metadata": {},
   "outputs": [
    {
     "data": {
      "text/html": [
       "<div>\n",
       "<style scoped>\n",
       "    .dataframe tbody tr th:only-of-type {\n",
       "        vertical-align: middle;\n",
       "    }\n",
       "\n",
       "    .dataframe tbody tr th {\n",
       "        vertical-align: top;\n",
       "    }\n",
       "\n",
       "    .dataframe thead th {\n",
       "        text-align: right;\n",
       "    }\n",
       "</style>\n",
       "<table border=\"1\" class=\"dataframe\">\n",
       "  <thead>\n",
       "    <tr style=\"text-align: right;\">\n",
       "      <th></th>\n",
       "      <th>Year_Quarter</th>\n",
       "      <th>rfe_filled</th>\n",
       "      <th>Mean_monthly_rainfall</th>\n",
       "    </tr>\n",
       "  </thead>\n",
       "  <tbody>\n",
       "    <tr>\n",
       "      <th>0</th>\n",
       "      <td>19831</td>\n",
       "      <td>3.02</td>\n",
       "      <td>3.02</td>\n",
       "    </tr>\n",
       "    <tr>\n",
       "      <th>1</th>\n",
       "      <td>19832</td>\n",
       "      <td>117.14</td>\n",
       "      <td>117.14</td>\n",
       "    </tr>\n",
       "    <tr>\n",
       "      <th>2</th>\n",
       "      <td>19833</td>\n",
       "      <td>36.75</td>\n",
       "      <td>36.75</td>\n",
       "    </tr>\n",
       "    <tr>\n",
       "      <th>3</th>\n",
       "      <td>19834</td>\n",
       "      <td>32.81</td>\n",
       "      <td>32.81</td>\n",
       "    </tr>\n",
       "    <tr>\n",
       "      <th>4</th>\n",
       "      <td>19841</td>\n",
       "      <td>0.51</td>\n",
       "      <td>0.51</td>\n",
       "    </tr>\n",
       "  </tbody>\n",
       "</table>\n",
       "</div>"
      ],
      "text/plain": [
       "  Year_Quarter  rfe_filled  Mean_monthly_rainfall\n",
       "0        19831        3.02                   3.02\n",
       "1        19832      117.14                 117.14\n",
       "2        19833       36.75                  36.75\n",
       "3        19834       32.81                  32.81\n",
       "4        19841        0.51                   0.51"
      ]
     },
     "execution_count": 197,
     "metadata": {},
     "output_type": "execute_result"
    }
   ],
   "source": [
    "df_fin = df_monthly.groupby(['Year_Quarter'], as_index=False)['rfe_filled', 'Mean_monthly_rainfall'].sum()\n",
    "\n",
    "df_fin.head()"
   ]
  },
  {
   "attachments": {},
   "cell_type": "markdown",
   "metadata": {},
   "source": [
    "## AutoCorrelation And Partial AutoCorrelation Function Plot of the rainfall Time Series (rfe_filled) adjusted with respect to 10 lags"
   ]
  },
  {
   "cell_type": "code",
   "execution_count": 198,
   "metadata": {},
   "outputs": [
    {
     "data": {
      "text/plain": [
       "Text(0, 0.5, 'Correlation Coefficient')"
      ]
     },
     "execution_count": 198,
     "metadata": {},
     "output_type": "execute_result"
    },
    {
     "data": {
      "image/png": "[encoded data removed]",
      "text/plain": [
       "<Figure size 720x360 with 1 Axes>"
      ]
     },
     "metadata": {},
     "output_type": "display_data"
    },
    {
     "data": {
      "image/png": "[encoded data removed]",
      "text/plain": [
       "<Figure size 720x360 with 1 Axes>"
      ]
     },
     "metadata": {},
     "output_type": "display_data"
    }
   ],
   "source": [
    "#autocorrelation_plot.py\n",
    "# inspect lagged values of the past\n",
    "from statsmodels.graphics.tsaplots import plot_acf, plot_pacf\n",
    "import matplotlib.pyplot as plt\n",
    "\n",
    "fig, ax = plt.subplots(figsize=(10, 5))\n",
    "plot_acf(df_som['rfe_filled'], lags=10, ax=ax)\n",
    "ax.set_ylabel('Correlation Coefficient');\n",
    "\n",
    "fig2, ax2 = plt.subplots(figsize=(10, 5))\n",
    "\n",
    "plot_pacf(df_som['rfe_filled'], lags=10, ax=ax2)\n",
    "ax2.set_ylabel('Correlation Coefficient')"
   ]
  },
  {
   "cell_type": "code",
   "execution_count": 199,
   "metadata": {},
   "outputs": [],
   "source": [
    "# create lagged variables\n",
    "\n",
    "def lagged_features(df):\n",
    "  '''\n",
    "  Extract lagged features using Pandas shift function: 1, 2.. 5 weeks.\n",
    "  '''\n",
    "  df['Lag_Rainfall_mm_1w'] = df['rfe_filled'].shift(1)\n",
    "  df['Lag_Rainfall_mm_2w'] = df['rfe_filled'].shift(2)\n",
    "  df['Lag_Rainfall_mm_3w'] = df['rfe_filled'].shift(3)\n",
    "  df['Lag_Rainfall_mm_4w'] = df['rfe_filled'].shift(4)\n",
    "  df['Lag_Rainfall_mm_5w'] = df['rfe_filled'].shift(5)\n",
    "  df['Lag_Rainfall_mm_6w'] = df['rfe_filled'].shift(6)\n",
    "  # return\n",
    "  return df.fillna(0)"
   ]
  },
  {
   "cell_type": "code",
   "execution_count": 200,
   "metadata": {},
   "outputs": [
    {
     "data": {
      "text/html": [
       "<div>\n",
       "<style scoped>\n",
       "    .dataframe tbody tr th:only-of-type {\n",
       "        vertical-align: middle;\n",
       "    }\n",
       "\n",
       "    .dataframe tbody tr th {\n",
       "        vertical-align: top;\n",
       "    }\n",
       "\n",
       "    .dataframe thead th {\n",
       "        text-align: right;\n",
       "    }\n",
       "</style>\n",
       "<table border=\"1\" class=\"dataframe\">\n",
       "  <thead>\n",
       "    <tr style=\"text-align: right;\">\n",
       "      <th></th>\n",
       "      <th>YearWeek</th>\n",
       "      <th>Date</th>\n",
       "      <th>rfe_filled</th>\n",
       "      <th>Month</th>\n",
       "      <th>Month_Name</th>\n",
       "      <th>WeekNum</th>\n",
       "      <th>Quarter</th>\n",
       "      <th>Day</th>\n",
       "      <th>WeekinMonth</th>\n",
       "      <th>Mean_weekly_rainfall</th>\n",
       "      <th>Rain_Season</th>\n",
       "      <th>Drought</th>\n",
       "      <th>Lag_Rainfall_mm_1w</th>\n",
       "      <th>Lag_Rainfall_mm_2w</th>\n",
       "      <th>Lag_Rainfall_mm_3w</th>\n",
       "      <th>Lag_Rainfall_mm_4w</th>\n",
       "      <th>Lag_Rainfall_mm_5w</th>\n",
       "      <th>Lag_Rainfall_mm_6w</th>\n",
       "    </tr>\n",
       "  </thead>\n",
       "  <tbody>\n",
       "    <tr>\n",
       "      <th>0</th>\n",
       "      <td>198301</td>\n",
       "      <td>1983-01-03</td>\n",
       "      <td>0.66</td>\n",
       "      <td>1</td>\n",
       "      <td>Jan</td>\n",
       "      <td>1</td>\n",
       "      <td>1</td>\n",
       "      <td>3</td>\n",
       "      <td>1</td>\n",
       "      <td>0.486383</td>\n",
       "      <td>0</td>\n",
       "      <td>0</td>\n",
       "      <td>0.00</td>\n",
       "      <td>0.00</td>\n",
       "      <td>0.00</td>\n",
       "      <td>0.00</td>\n",
       "      <td>0.0</td>\n",
       "      <td>0.0</td>\n",
       "    </tr>\n",
       "    <tr>\n",
       "      <th>1</th>\n",
       "      <td>198302</td>\n",
       "      <td>1983-01-10</td>\n",
       "      <td>0.02</td>\n",
       "      <td>1</td>\n",
       "      <td>Jan</td>\n",
       "      <td>2</td>\n",
       "      <td>1</td>\n",
       "      <td>10</td>\n",
       "      <td>2</td>\n",
       "      <td>0.104250</td>\n",
       "      <td>0</td>\n",
       "      <td>0</td>\n",
       "      <td>0.66</td>\n",
       "      <td>0.00</td>\n",
       "      <td>0.00</td>\n",
       "      <td>0.00</td>\n",
       "      <td>0.0</td>\n",
       "      <td>0.0</td>\n",
       "    </tr>\n",
       "    <tr>\n",
       "      <th>2</th>\n",
       "      <td>198303</td>\n",
       "      <td>1983-01-17</td>\n",
       "      <td>0.00</td>\n",
       "      <td>1</td>\n",
       "      <td>Jan</td>\n",
       "      <td>3</td>\n",
       "      <td>1</td>\n",
       "      <td>17</td>\n",
       "      <td>3</td>\n",
       "      <td>0.139500</td>\n",
       "      <td>0</td>\n",
       "      <td>0</td>\n",
       "      <td>0.02</td>\n",
       "      <td>0.66</td>\n",
       "      <td>0.00</td>\n",
       "      <td>0.00</td>\n",
       "      <td>0.0</td>\n",
       "      <td>0.0</td>\n",
       "    </tr>\n",
       "    <tr>\n",
       "      <th>3</th>\n",
       "      <td>198304</td>\n",
       "      <td>1983-01-24</td>\n",
       "      <td>0.00</td>\n",
       "      <td>1</td>\n",
       "      <td>Jan</td>\n",
       "      <td>4</td>\n",
       "      <td>1</td>\n",
       "      <td>24</td>\n",
       "      <td>4</td>\n",
       "      <td>0.088000</td>\n",
       "      <td>0</td>\n",
       "      <td>0</td>\n",
       "      <td>0.00</td>\n",
       "      <td>0.02</td>\n",
       "      <td>0.66</td>\n",
       "      <td>0.00</td>\n",
       "      <td>0.0</td>\n",
       "      <td>0.0</td>\n",
       "    </tr>\n",
       "    <tr>\n",
       "      <th>4</th>\n",
       "      <td>198305</td>\n",
       "      <td>1983-01-31</td>\n",
       "      <td>0.35</td>\n",
       "      <td>1</td>\n",
       "      <td>Jan</td>\n",
       "      <td>5</td>\n",
       "      <td>1</td>\n",
       "      <td>31</td>\n",
       "      <td>5</td>\n",
       "      <td>0.070750</td>\n",
       "      <td>0</td>\n",
       "      <td>0</td>\n",
       "      <td>0.00</td>\n",
       "      <td>0.00</td>\n",
       "      <td>0.02</td>\n",
       "      <td>0.66</td>\n",
       "      <td>0.0</td>\n",
       "      <td>0.0</td>\n",
       "    </tr>\n",
       "  </tbody>\n",
       "</table>\n",
       "</div>"
      ],
      "text/plain": [
       "  YearWeek       Date  rfe_filled  Month Month_Name  WeekNum  Quarter  Day  \\\n",
       "0   198301 1983-01-03        0.66      1        Jan        1        1    3   \n",
       "1   198302 1983-01-10        0.02      1        Jan        2        1   10   \n",
       "2   198303 1983-01-17        0.00      1        Jan        3        1   17   \n",
       "3   198304 1983-01-24        0.00      1        Jan        4        1   24   \n",
       "4   198305 1983-01-31        0.35      1        Jan        5        1   31   \n",
       "\n",
       "   WeekinMonth  Mean_weekly_rainfall  Rain_Season  Drought  \\\n",
       "0            1              0.486383            0        0   \n",
       "1            2              0.104250            0        0   \n",
       "2            3              0.139500            0        0   \n",
       "3            4              0.088000            0        0   \n",
       "4            5              0.070750            0        0   \n",
       "\n",
       "   Lag_Rainfall_mm_1w  Lag_Rainfall_mm_2w  Lag_Rainfall_mm_3w  \\\n",
       "0                0.00                0.00                0.00   \n",
       "1                0.66                0.00                0.00   \n",
       "2                0.02                0.66                0.00   \n",
       "3                0.00                0.02                0.66   \n",
       "4                0.00                0.00                0.02   \n",
       "\n",
       "   Lag_Rainfall_mm_4w  Lag_Rainfall_mm_5w  Lag_Rainfall_mm_6w  \n",
       "0                0.00                 0.0                 0.0  \n",
       "1                0.00                 0.0                 0.0  \n",
       "2                0.00                 0.0                 0.0  \n",
       "3                0.00                 0.0                 0.0  \n",
       "4                0.66                 0.0                 0.0  "
      ]
     },
     "execution_count": 200,
     "metadata": {},
     "output_type": "execute_result"
    }
   ],
   "source": [
    "df_mod = lagged_features(df_som)\n",
    "\n",
    "df_mod.head()"
   ]
  },
  {
   "cell_type": "code",
   "execution_count": 201,
   "metadata": {},
   "outputs": [
    {
     "data": {
      "text/html": [
       "<div>\n",
       "<style scoped>\n",
       "    .dataframe tbody tr th:only-of-type {\n",
       "        vertical-align: middle;\n",
       "    }\n",
       "\n",
       "    .dataframe tbody tr th {\n",
       "        vertical-align: top;\n",
       "    }\n",
       "\n",
       "    .dataframe thead th {\n",
       "        text-align: right;\n",
       "    }\n",
       "</style>\n",
       "<table border=\"1\" class=\"dataframe\">\n",
       "  <thead>\n",
       "    <tr style=\"text-align: right;\">\n",
       "      <th></th>\n",
       "      <th>rfe_filled</th>\n",
       "      <th>Month</th>\n",
       "      <th>WeekNum</th>\n",
       "      <th>Quarter</th>\n",
       "      <th>Day</th>\n",
       "      <th>WeekinMonth</th>\n",
       "      <th>Mean_weekly_rainfall</th>\n",
       "      <th>Rain_Season</th>\n",
       "      <th>Drought</th>\n",
       "      <th>Lag_Rainfall_mm_1w</th>\n",
       "      <th>Lag_Rainfall_mm_2w</th>\n",
       "      <th>Lag_Rainfall_mm_3w</th>\n",
       "      <th>Lag_Rainfall_mm_4w</th>\n",
       "      <th>Lag_Rainfall_mm_5w</th>\n",
       "      <th>Lag_Rainfall_mm_6w</th>\n",
       "      <th>Time_t</th>\n",
       "    </tr>\n",
       "    <tr>\n",
       "      <th>Date</th>\n",
       "      <th></th>\n",
       "      <th></th>\n",
       "      <th></th>\n",
       "      <th></th>\n",
       "      <th></th>\n",
       "      <th></th>\n",
       "      <th></th>\n",
       "      <th></th>\n",
       "      <th></th>\n",
       "      <th></th>\n",
       "      <th></th>\n",
       "      <th></th>\n",
       "      <th></th>\n",
       "      <th></th>\n",
       "      <th></th>\n",
       "      <th></th>\n",
       "    </tr>\n",
       "  </thead>\n",
       "  <tbody>\n",
       "    <tr>\n",
       "      <th>1983-01-03</th>\n",
       "      <td>0.66</td>\n",
       "      <td>1</td>\n",
       "      <td>1</td>\n",
       "      <td>1</td>\n",
       "      <td>3</td>\n",
       "      <td>1</td>\n",
       "      <td>0.486383</td>\n",
       "      <td>0</td>\n",
       "      <td>0</td>\n",
       "      <td>0.00</td>\n",
       "      <td>0.00</td>\n",
       "      <td>0.00</td>\n",
       "      <td>0.00</td>\n",
       "      <td>0.0</td>\n",
       "      <td>0.0</td>\n",
       "      <td>1</td>\n",
       "    </tr>\n",
       "    <tr>\n",
       "      <th>1983-01-10</th>\n",
       "      <td>0.02</td>\n",
       "      <td>1</td>\n",
       "      <td>2</td>\n",
       "      <td>1</td>\n",
       "      <td>10</td>\n",
       "      <td>2</td>\n",
       "      <td>0.104250</td>\n",
       "      <td>0</td>\n",
       "      <td>0</td>\n",
       "      <td>0.66</td>\n",
       "      <td>0.00</td>\n",
       "      <td>0.00</td>\n",
       "      <td>0.00</td>\n",
       "      <td>0.0</td>\n",
       "      <td>0.0</td>\n",
       "      <td>2</td>\n",
       "    </tr>\n",
       "    <tr>\n",
       "      <th>1983-01-17</th>\n",
       "      <td>0.00</td>\n",
       "      <td>1</td>\n",
       "      <td>3</td>\n",
       "      <td>1</td>\n",
       "      <td>17</td>\n",
       "      <td>3</td>\n",
       "      <td>0.139500</td>\n",
       "      <td>0</td>\n",
       "      <td>0</td>\n",
       "      <td>0.02</td>\n",
       "      <td>0.66</td>\n",
       "      <td>0.00</td>\n",
       "      <td>0.00</td>\n",
       "      <td>0.0</td>\n",
       "      <td>0.0</td>\n",
       "      <td>3</td>\n",
       "    </tr>\n",
       "    <tr>\n",
       "      <th>1983-01-24</th>\n",
       "      <td>0.00</td>\n",
       "      <td>1</td>\n",
       "      <td>4</td>\n",
       "      <td>1</td>\n",
       "      <td>24</td>\n",
       "      <td>4</td>\n",
       "      <td>0.088000</td>\n",
       "      <td>0</td>\n",
       "      <td>0</td>\n",
       "      <td>0.00</td>\n",
       "      <td>0.02</td>\n",
       "      <td>0.66</td>\n",
       "      <td>0.00</td>\n",
       "      <td>0.0</td>\n",
       "      <td>0.0</td>\n",
       "      <td>4</td>\n",
       "    </tr>\n",
       "    <tr>\n",
       "      <th>1983-01-31</th>\n",
       "      <td>0.35</td>\n",
       "      <td>1</td>\n",
       "      <td>5</td>\n",
       "      <td>1</td>\n",
       "      <td>31</td>\n",
       "      <td>5</td>\n",
       "      <td>0.070750</td>\n",
       "      <td>0</td>\n",
       "      <td>0</td>\n",
       "      <td>0.00</td>\n",
       "      <td>0.00</td>\n",
       "      <td>0.02</td>\n",
       "      <td>0.66</td>\n",
       "      <td>0.0</td>\n",
       "      <td>0.0</td>\n",
       "      <td>5</td>\n",
       "    </tr>\n",
       "  </tbody>\n",
       "</table>\n",
       "</div>"
      ],
      "text/plain": [
       "            rfe_filled  Month  WeekNum  Quarter  Day  WeekinMonth  \\\n",
       "Date                                                                \n",
       "1983-01-03        0.66      1        1        1    3            1   \n",
       "1983-01-10        0.02      1        2        1   10            2   \n",
       "1983-01-17        0.00      1        3        1   17            3   \n",
       "1983-01-24        0.00      1        4        1   24            4   \n",
       "1983-01-31        0.35      1        5        1   31            5   \n",
       "\n",
       "            Mean_weekly_rainfall  Rain_Season  Drought  Lag_Rainfall_mm_1w  \\\n",
       "Date                                                                         \n",
       "1983-01-03              0.486383            0        0                0.00   \n",
       "1983-01-10              0.104250            0        0                0.66   \n",
       "1983-01-17              0.139500            0        0                0.02   \n",
       "1983-01-24              0.088000            0        0                0.00   \n",
       "1983-01-31              0.070750            0        0                0.00   \n",
       "\n",
       "            Lag_Rainfall_mm_2w  Lag_Rainfall_mm_3w  Lag_Rainfall_mm_4w  \\\n",
       "Date                                                                     \n",
       "1983-01-03                0.00                0.00                0.00   \n",
       "1983-01-10                0.00                0.00                0.00   \n",
       "1983-01-17                0.66                0.00                0.00   \n",
       "1983-01-24                0.02                0.66                0.00   \n",
       "1983-01-31                0.00                0.02                0.66   \n",
       "\n",
       "            Lag_Rainfall_mm_5w  Lag_Rainfall_mm_6w  Time_t  \n",
       "Date                                                        \n",
       "1983-01-03                 0.0                 0.0       1  \n",
       "1983-01-10                 0.0                 0.0       2  \n",
       "1983-01-17                 0.0                 0.0       3  \n",
       "1983-01-24                 0.0                 0.0       4  \n",
       "1983-01-31                 0.0                 0.0       5  "
      ]
     },
     "execution_count": 201,
     "metadata": {},
     "output_type": "execute_result"
    }
   ],
   "source": [
    "# create time period variable\n",
    "df_mod['Time_t'] = df_mod.index + 1\n",
    "\n",
    "df_mod.drop(columns=['YearWeek','Month_Name'], axis=1,inplace=True)\n",
    "\n",
    "df_mod.set_index('Date', inplace=True)\n",
    "\n",
    "df_mod.head()"
   ]
  },
  {
   "cell_type": "code",
   "execution_count": 202,
   "metadata": {},
   "outputs": [
    {
     "data": {
      "text/html": [
       "<div>\n",
       "<style scoped>\n",
       "    .dataframe tbody tr th:only-of-type {\n",
       "        vertical-align: middle;\n",
       "    }\n",
       "\n",
       "    .dataframe tbody tr th {\n",
       "        vertical-align: top;\n",
       "    }\n",
       "\n",
       "    .dataframe thead th {\n",
       "        text-align: right;\n",
       "    }\n",
       "</style>\n",
       "<table border=\"1\" class=\"dataframe\">\n",
       "  <thead>\n",
       "    <tr style=\"text-align: right;\">\n",
       "      <th></th>\n",
       "      <th>rfe_filled</th>\n",
       "      <th>Month</th>\n",
       "      <th>WeekNum</th>\n",
       "      <th>Quarter</th>\n",
       "      <th>Day</th>\n",
       "      <th>WeekinMonth</th>\n",
       "      <th>Mean_weekly_rainfall</th>\n",
       "      <th>Rain_Season</th>\n",
       "      <th>Drought</th>\n",
       "      <th>Lag_Rainfall_mm_1w</th>\n",
       "      <th>Lag_Rainfall_mm_2w</th>\n",
       "      <th>Lag_Rainfall_mm_3w</th>\n",
       "      <th>Lag_Rainfall_mm_4w</th>\n",
       "      <th>Lag_Rainfall_mm_5w</th>\n",
       "      <th>Lag_Rainfall_mm_6w</th>\n",
       "      <th>Time_t</th>\n",
       "      <th>Avg_Rainfall_Diff</th>\n",
       "    </tr>\n",
       "    <tr>\n",
       "      <th>Date</th>\n",
       "      <th></th>\n",
       "      <th></th>\n",
       "      <th></th>\n",
       "      <th></th>\n",
       "      <th></th>\n",
       "      <th></th>\n",
       "      <th></th>\n",
       "      <th></th>\n",
       "      <th></th>\n",
       "      <th></th>\n",
       "      <th></th>\n",
       "      <th></th>\n",
       "      <th></th>\n",
       "      <th></th>\n",
       "      <th></th>\n",
       "      <th></th>\n",
       "      <th></th>\n",
       "    </tr>\n",
       "  </thead>\n",
       "  <tbody>\n",
       "    <tr>\n",
       "      <th>1983-01-03</th>\n",
       "      <td>0.66</td>\n",
       "      <td>1</td>\n",
       "      <td>1</td>\n",
       "      <td>1</td>\n",
       "      <td>3</td>\n",
       "      <td>1</td>\n",
       "      <td>0.486383</td>\n",
       "      <td>0</td>\n",
       "      <td>0</td>\n",
       "      <td>0.00</td>\n",
       "      <td>0.00</td>\n",
       "      <td>0.00</td>\n",
       "      <td>0.00</td>\n",
       "      <td>0.0</td>\n",
       "      <td>0.0</td>\n",
       "      <td>1</td>\n",
       "      <td>0.17</td>\n",
       "    </tr>\n",
       "    <tr>\n",
       "      <th>1983-01-10</th>\n",
       "      <td>0.02</td>\n",
       "      <td>1</td>\n",
       "      <td>2</td>\n",
       "      <td>1</td>\n",
       "      <td>10</td>\n",
       "      <td>2</td>\n",
       "      <td>0.104250</td>\n",
       "      <td>0</td>\n",
       "      <td>0</td>\n",
       "      <td>0.66</td>\n",
       "      <td>0.00</td>\n",
       "      <td>0.00</td>\n",
       "      <td>0.00</td>\n",
       "      <td>0.0</td>\n",
       "      <td>0.0</td>\n",
       "      <td>2</td>\n",
       "      <td>-0.08</td>\n",
       "    </tr>\n",
       "    <tr>\n",
       "      <th>1983-01-17</th>\n",
       "      <td>0.00</td>\n",
       "      <td>1</td>\n",
       "      <td>3</td>\n",
       "      <td>1</td>\n",
       "      <td>17</td>\n",
       "      <td>3</td>\n",
       "      <td>0.139500</td>\n",
       "      <td>0</td>\n",
       "      <td>0</td>\n",
       "      <td>0.02</td>\n",
       "      <td>0.66</td>\n",
       "      <td>0.00</td>\n",
       "      <td>0.00</td>\n",
       "      <td>0.0</td>\n",
       "      <td>0.0</td>\n",
       "      <td>3</td>\n",
       "      <td>-0.14</td>\n",
       "    </tr>\n",
       "    <tr>\n",
       "      <th>1983-01-24</th>\n",
       "      <td>0.00</td>\n",
       "      <td>1</td>\n",
       "      <td>4</td>\n",
       "      <td>1</td>\n",
       "      <td>24</td>\n",
       "      <td>4</td>\n",
       "      <td>0.088000</td>\n",
       "      <td>0</td>\n",
       "      <td>0</td>\n",
       "      <td>0.00</td>\n",
       "      <td>0.02</td>\n",
       "      <td>0.66</td>\n",
       "      <td>0.00</td>\n",
       "      <td>0.0</td>\n",
       "      <td>0.0</td>\n",
       "      <td>4</td>\n",
       "      <td>-0.09</td>\n",
       "    </tr>\n",
       "    <tr>\n",
       "      <th>1983-01-31</th>\n",
       "      <td>0.35</td>\n",
       "      <td>1</td>\n",
       "      <td>5</td>\n",
       "      <td>1</td>\n",
       "      <td>31</td>\n",
       "      <td>5</td>\n",
       "      <td>0.070750</td>\n",
       "      <td>0</td>\n",
       "      <td>0</td>\n",
       "      <td>0.00</td>\n",
       "      <td>0.00</td>\n",
       "      <td>0.02</td>\n",
       "      <td>0.66</td>\n",
       "      <td>0.0</td>\n",
       "      <td>0.0</td>\n",
       "      <td>5</td>\n",
       "      <td>0.28</td>\n",
       "    </tr>\n",
       "  </tbody>\n",
       "</table>\n",
       "</div>"
      ],
      "text/plain": [
       "            rfe_filled  Month  WeekNum  Quarter  Day  WeekinMonth  \\\n",
       "Date                                                                \n",
       "1983-01-03        0.66      1        1        1    3            1   \n",
       "1983-01-10        0.02      1        2        1   10            2   \n",
       "1983-01-17        0.00      1        3        1   17            3   \n",
       "1983-01-24        0.00      1        4        1   24            4   \n",
       "1983-01-31        0.35      1        5        1   31            5   \n",
       "\n",
       "            Mean_weekly_rainfall  Rain_Season  Drought  Lag_Rainfall_mm_1w  \\\n",
       "Date                                                                         \n",
       "1983-01-03              0.486383            0        0                0.00   \n",
       "1983-01-10              0.104250            0        0                0.66   \n",
       "1983-01-17              0.139500            0        0                0.02   \n",
       "1983-01-24              0.088000            0        0                0.00   \n",
       "1983-01-31              0.070750            0        0                0.00   \n",
       "\n",
       "            Lag_Rainfall_mm_2w  Lag_Rainfall_mm_3w  Lag_Rainfall_mm_4w  \\\n",
       "Date                                                                     \n",
       "1983-01-03                0.00                0.00                0.00   \n",
       "1983-01-10                0.00                0.00                0.00   \n",
       "1983-01-17                0.66                0.00                0.00   \n",
       "1983-01-24                0.02                0.66                0.00   \n",
       "1983-01-31                0.00                0.02                0.66   \n",
       "\n",
       "            Lag_Rainfall_mm_5w  Lag_Rainfall_mm_6w  Time_t  Avg_Rainfall_Diff  \n",
       "Date                                                                           \n",
       "1983-01-03                 0.0                 0.0       1               0.17  \n",
       "1983-01-10                 0.0                 0.0       2              -0.08  \n",
       "1983-01-17                 0.0                 0.0       3              -0.14  \n",
       "1983-01-24                 0.0                 0.0       4              -0.09  \n",
       "1983-01-31                 0.0                 0.0       5               0.28  "
      ]
     },
     "execution_count": 202,
     "metadata": {},
     "output_type": "execute_result"
    }
   ],
   "source": [
    "# rainfall difference between average weekly rainfall\n",
    "\n",
    "df_mod['Avg_Rainfall_Diff'] = df_mod.apply(lambda x: np.round(x['rfe_filled']-x['Mean_weekly_rainfall'],decimals=2),axis=1)\n",
    "\n",
    "df_mod.head()"
   ]
  },
  {
   "cell_type": "code",
   "execution_count": 203,
   "metadata": {},
   "outputs": [
    {
     "data": {
      "text/html": [
       "<div>\n",
       "<style scoped>\n",
       "    .dataframe tbody tr th:only-of-type {\n",
       "        vertical-align: middle;\n",
       "    }\n",
       "\n",
       "    .dataframe tbody tr th {\n",
       "        vertical-align: top;\n",
       "    }\n",
       "\n",
       "    .dataframe thead th {\n",
       "        text-align: right;\n",
       "    }\n",
       "</style>\n",
       "<table border=\"1\" class=\"dataframe\">\n",
       "  <thead>\n",
       "    <tr style=\"text-align: right;\">\n",
       "      <th></th>\n",
       "      <th>Time_t</th>\n",
       "      <th>Month</th>\n",
       "      <th>WeekNum</th>\n",
       "      <th>Quarter</th>\n",
       "      <th>Day</th>\n",
       "      <th>WeekinMonth</th>\n",
       "      <th>rfe_filled</th>\n",
       "      <th>Mean_weekly_rainfall</th>\n",
       "      <th>Avg_Rainfall_Diff</th>\n",
       "      <th>Rain_Season</th>\n",
       "      <th>Drought</th>\n",
       "      <th>Lag_Rainfall_mm_1w</th>\n",
       "      <th>Lag_Rainfall_mm_2w</th>\n",
       "      <th>Lag_Rainfall_mm_3w</th>\n",
       "      <th>Lag_Rainfall_mm_4w</th>\n",
       "      <th>Lag_Rainfall_mm_5w</th>\n",
       "    </tr>\n",
       "    <tr>\n",
       "      <th>Date</th>\n",
       "      <th></th>\n",
       "      <th></th>\n",
       "      <th></th>\n",
       "      <th></th>\n",
       "      <th></th>\n",
       "      <th></th>\n",
       "      <th></th>\n",
       "      <th></th>\n",
       "      <th></th>\n",
       "      <th></th>\n",
       "      <th></th>\n",
       "      <th></th>\n",
       "      <th></th>\n",
       "      <th></th>\n",
       "      <th></th>\n",
       "      <th></th>\n",
       "    </tr>\n",
       "  </thead>\n",
       "  <tbody>\n",
       "    <tr>\n",
       "      <th>1983-01-03</th>\n",
       "      <td>1</td>\n",
       "      <td>1</td>\n",
       "      <td>1</td>\n",
       "      <td>1</td>\n",
       "      <td>3</td>\n",
       "      <td>1</td>\n",
       "      <td>0.66</td>\n",
       "      <td>0.486383</td>\n",
       "      <td>0.17</td>\n",
       "      <td>0</td>\n",
       "      <td>0</td>\n",
       "      <td>0.00</td>\n",
       "      <td>0.00</td>\n",
       "      <td>0.00</td>\n",
       "      <td>0.00</td>\n",
       "      <td>0.0</td>\n",
       "    </tr>\n",
       "    <tr>\n",
       "      <th>1983-01-10</th>\n",
       "      <td>2</td>\n",
       "      <td>1</td>\n",
       "      <td>2</td>\n",
       "      <td>1</td>\n",
       "      <td>10</td>\n",
       "      <td>2</td>\n",
       "      <td>0.02</td>\n",
       "      <td>0.104250</td>\n",
       "      <td>-0.08</td>\n",
       "      <td>0</td>\n",
       "      <td>0</td>\n",
       "      <td>0.66</td>\n",
       "      <td>0.00</td>\n",
       "      <td>0.00</td>\n",
       "      <td>0.00</td>\n",
       "      <td>0.0</td>\n",
       "    </tr>\n",
       "    <tr>\n",
       "      <th>1983-01-17</th>\n",
       "      <td>3</td>\n",
       "      <td>1</td>\n",
       "      <td>3</td>\n",
       "      <td>1</td>\n",
       "      <td>17</td>\n",
       "      <td>3</td>\n",
       "      <td>0.00</td>\n",
       "      <td>0.139500</td>\n",
       "      <td>-0.14</td>\n",
       "      <td>0</td>\n",
       "      <td>0</td>\n",
       "      <td>0.02</td>\n",
       "      <td>0.66</td>\n",
       "      <td>0.00</td>\n",
       "      <td>0.00</td>\n",
       "      <td>0.0</td>\n",
       "    </tr>\n",
       "    <tr>\n",
       "      <th>1983-01-24</th>\n",
       "      <td>4</td>\n",
       "      <td>1</td>\n",
       "      <td>4</td>\n",
       "      <td>1</td>\n",
       "      <td>24</td>\n",
       "      <td>4</td>\n",
       "      <td>0.00</td>\n",
       "      <td>0.088000</td>\n",
       "      <td>-0.09</td>\n",
       "      <td>0</td>\n",
       "      <td>0</td>\n",
       "      <td>0.00</td>\n",
       "      <td>0.02</td>\n",
       "      <td>0.66</td>\n",
       "      <td>0.00</td>\n",
       "      <td>0.0</td>\n",
       "    </tr>\n",
       "    <tr>\n",
       "      <th>1983-01-31</th>\n",
       "      <td>5</td>\n",
       "      <td>1</td>\n",
       "      <td>5</td>\n",
       "      <td>1</td>\n",
       "      <td>31</td>\n",
       "      <td>5</td>\n",
       "      <td>0.35</td>\n",
       "      <td>0.070750</td>\n",
       "      <td>0.28</td>\n",
       "      <td>0</td>\n",
       "      <td>0</td>\n",
       "      <td>0.00</td>\n",
       "      <td>0.00</td>\n",
       "      <td>0.02</td>\n",
       "      <td>0.66</td>\n",
       "      <td>0.0</td>\n",
       "    </tr>\n",
       "  </tbody>\n",
       "</table>\n",
       "</div>"
      ],
      "text/plain": [
       "            Time_t  Month  WeekNum  Quarter  Day  WeekinMonth  rfe_filled  \\\n",
       "Date                                                                        \n",
       "1983-01-03       1      1        1        1    3            1        0.66   \n",
       "1983-01-10       2      1        2        1   10            2        0.02   \n",
       "1983-01-17       3      1        3        1   17            3        0.00   \n",
       "1983-01-24       4      1        4        1   24            4        0.00   \n",
       "1983-01-31       5      1        5        1   31            5        0.35   \n",
       "\n",
       "            Mean_weekly_rainfall  Avg_Rainfall_Diff  Rain_Season  Drought  \\\n",
       "Date                                                                        \n",
       "1983-01-03              0.486383               0.17            0        0   \n",
       "1983-01-10              0.104250              -0.08            0        0   \n",
       "1983-01-17              0.139500              -0.14            0        0   \n",
       "1983-01-24              0.088000              -0.09            0        0   \n",
       "1983-01-31              0.070750               0.28            0        0   \n",
       "\n",
       "            Lag_Rainfall_mm_1w  Lag_Rainfall_mm_2w  Lag_Rainfall_mm_3w  \\\n",
       "Date                                                                     \n",
       "1983-01-03                0.00                0.00                0.00   \n",
       "1983-01-10                0.66                0.00                0.00   \n",
       "1983-01-17                0.02                0.66                0.00   \n",
       "1983-01-24                0.00                0.02                0.66   \n",
       "1983-01-31                0.00                0.00                0.02   \n",
       "\n",
       "            Lag_Rainfall_mm_4w  Lag_Rainfall_mm_5w  \n",
       "Date                                                \n",
       "1983-01-03                0.00                 0.0  \n",
       "1983-01-10                0.00                 0.0  \n",
       "1983-01-17                0.00                 0.0  \n",
       "1983-01-24                0.00                 0.0  \n",
       "1983-01-31                0.66                 0.0  "
      ]
     },
     "execution_count": 203,
     "metadata": {},
     "output_type": "execute_result"
    }
   ],
   "source": [
    "# rearrange columns\n",
    "\n",
    "cols = ['Time_t','Month', 'WeekNum', 'Quarter', 'Day', 'WeekinMonth', 'rfe_filled', \n",
    "       'Mean_weekly_rainfall', 'Avg_Rainfall_Diff', 'Rain_Season', 'Drought', 'Lag_Rainfall_mm_1w',\n",
    "       'Lag_Rainfall_mm_2w', 'Lag_Rainfall_mm_3w', 'Lag_Rainfall_mm_4w','Lag_Rainfall_mm_5w']\n",
    "\n",
    "df_mod = df_mod[cols]\n",
    "\n",
    "df_mod.head()"
   ]
  },
  {
   "attachments": {},
   "cell_type": "markdown",
   "metadata": {},
   "source": [
    "## Calculates the cummulative rainfall estimates for the year quaters"
   ]
  },
  {
   "cell_type": "code",
   "execution_count": 204,
   "metadata": {},
   "outputs": [],
   "source": [
    "# correlation matrix plot\n",
    "\n",
    "def corr_heatmap(df):\n",
    "    '''\n",
    "    Seaborn Heatmap with mirror removed\n",
    "    '''\n",
    "    import seaborn as sns\n",
    "    sns.set(font_scale=1.0)\n",
    "    if isinstance(df, pd.DataFrame):\n",
    "        fig, ax = plt.subplots(figsize=(12,8))\n",
    "        mask = np.zeros_like(df.corr(), dtype=np.bool)\n",
    "        mask[np.triu_indices_from(mask)] = True \n",
    "        ax = sns.heatmap(df.corr().round(2), mask=mask, ax=ax, cmap='YlGnBu', annot=True, fmt='.2g')\n",
    "        plt.title('Pearson Correlation Heatmap', fontsize=16)\n",
    "        plt.xticks(rotation = 80)\n",
    "        \n",
    "    else:\n",
    "        print('pd.DataFrame object needed!')"
   ]
  },
  {
   "cell_type": "code",
   "execution_count": 205,
   "metadata": {},
   "outputs": [
    {
     "data": {
      "image/png": "[encoded data removed]",
      "text/plain": [
       "<Figure size 792x504 with 1 Axes>"
      ]
     },
     "metadata": {},
     "output_type": "display_data"
    }
   ],
   "source": [
    "from sklearn import datasets\n",
    "from yellowbrick.target import FeatureCorrelation\n",
    "plt.figure(figsize=(11,7))\n",
    "sns.set(font_scale=1.2)\n",
    "\n",
    "# define x, y\n",
    "X, y = df_mod.drop('Drought', axis=1), df_mod['Drought']\n",
    "\n",
    "# Create a list of the feature names\n",
    "features = np.array(X.columns)\n",
    "\n",
    "# Instantiate the visualizer\n",
    "visualizer = FeatureCorrelation(labels=features)\n",
    "\n",
    "visualizer.fit(X, y)\n",
    "\n",
    "plt.title('Pearson Feature Importances vs. Drought', fontsize=16)\n",
    "plt.xlabel('Pearson Correlation Coefficient %', fontsize=16)\n",
    "plt.ylabel('Feature Name', fontsize=16);"
   ]
  },
  {
   "cell_type": "code",
   "execution_count": 206,
   "metadata": {},
   "outputs": [
    {
     "name": "stdout",
     "output_type": "stream",
     "text": [
      "(1718, 13)\n",
      "(330, 13)\n"
     ]
    }
   ],
   "source": [
    "# using uncertain times to see how well drought is predicted in times of peril \n",
    "df_mod.dropna(how='any', inplace=True)\n",
    "X_train = df_mod.loc[:'2015-10-31'].drop(['Drought', 'WeekNum', 'Quarter'], axis=1)\n",
    "X_test = df_mod.loc['2015-10-31':].drop(['Drought', 'WeekNum', 'Quarter'], axis=1)\n",
    "y_train = df_mod.loc[:'2015-10-31'][['Drought']]\n",
    "y_test = df_mod.loc['2015-10-31':][['Drought']]\n",
    "\n",
    "print(X_train.shape)\n",
    "print(X_test.shape)"
   ]
  },
  {
   "cell_type": "code",
   "execution_count": 207,
   "metadata": {},
   "outputs": [
    {
     "data": {
      "image/png": "[encoded data removed]",
      "text/plain": [
       "<Figure size 1224x360 with 2 Axes>"
      ]
     },
     "metadata": {},
     "output_type": "display_data"
    }
   ],
   "source": [
    "fig, axs = plt.subplots(ncols=2, figsize=(17, 5), sharey=True)\n",
    "y_train.replace({0:'No Drought', 1: 'Drought'}).value_counts(normalize = True).plot(kind=\"bar\", ax=axs[0])\n",
    "axs[0].set_title(\"Training Set Distribution\")\n",
    "axs[0].xaxis.set_tick_params(rotation=70)\n",
    "axs[0].set_ylabel('Share  of  Obs.')\n",
    "y_test.replace({0:'No Drought', 1: 'Drought'}).value_counts(normalize=True).plot(kind=\"bar\", ax=axs[1])\n",
    "axs[1].set_title(\"Test Set Distribution\")\n",
    "axs[1].xaxis.set_tick_params(rotation=70)\n",
    "plt.show()"
   ]
  },
  {
   "cell_type": "code",
   "execution_count": 208,
   "metadata": {},
   "outputs": [],
   "source": [
    "def model_runner_log(m, X_train, X_test, y_train, y_test):\n",
    "  '''\n",
    "  A generic function which runs a logistic classification model.\n",
    "  Outputs key performance metrices for model evaluation.\n",
    "  '''\n",
    "  # learn model with train set\n",
    "  from sklearn.metrics import classification_report\n",
    "  model_name = 'Logistic Regression'\n",
    "  m.fit(X_train, y_train)\n",
    "  y_pred_train, y_pred_test = m.predict(X_train), m.predict(X_test)\n",
    "  y_prob = m.predict_proba(X_test)\n",
    "  train_accuracy = accuracy_score(y_train, y_pred_train)\n",
    "  print(\"Train_set Accuracy of {a} is {b}%\".format(a=model_name, \n",
    "                                                   b=np.round(train_accuracy,2)*100.0))\n",
    "  test_accuracy = accuracy_score(y_test, y_pred_test)\n",
    "  print(\"Test_set Accuracy of {a} is {b}%\".format(a=model_name, \n",
    "                                                  b=np.round(test_accuracy,2)*100.0))\n",
    "  cv_accuracy = cross_val_score(m, X_train, y_train, cv=5).mean()*100\n",
    "  test_logloss = log_loss(y_test, y_prob)\n",
    "  cr = classification_report(y_test, y_pred_test)\n",
    "  print(cr)\n",
    "  return train_accuracy, cv_accuracy, test_accuracy, test_logloss"
   ]
  },
  {
   "cell_type": "code",
   "execution_count": 209,
   "metadata": {},
   "outputs": [
    {
     "name": "stdout",
     "output_type": "stream",
     "text": [
      "Accuracy: 91.52%\n",
      "[[222  10]\n",
      " [ 18  80]]\n"
     ]
    }
   ],
   "source": [
    "from sklearn.metrics import confusion_matrix\n",
    "from sklearn.linear_model import LogisticRegression\n",
    "# fit model no training data\n",
    "from numpy import loadtxt\n",
    "from yellowbrick.classifier import ConfusionMatrix\n",
    "from xgboost import XGBClassifier\n",
    "from sklearn.model_selection import train_test_split\n",
    "from sklearn.metrics import accuracy_score\n",
    "model = LogisticRegression()\n",
    "model.fit(X_train, y_train)\n",
    "\n",
    "# make predictions for test data\n",
    "y_pred = model.predict(X_test)\n",
    "predictions = [round(value) for value in y_pred]\n",
    "\n",
    "# evaluate predictions\n",
    "accuracy = accuracy_score(y_test, predictions)\n",
    "print(\"Accuracy: %.2f%%\" % (accuracy * 100.0))\n",
    "\n",
    "# create confusion matrix\n",
    "cm = confusion_matrix(y_test, predictions)\n",
    "print(cm)"
   ]
  },
  {
   "cell_type": "code",
   "execution_count": 210,
   "metadata": {},
   "outputs": [
    {
     "data": {
      "image/png": "[encoded data removed]",
      "text/plain": [
       "<Figure size 576x396 with 1 Axes>"
      ]
     },
     "metadata": {},
     "output_type": "display_data"
    },
    {
     "data": {
      "text/plain": [
       "<AxesSubplot:title={'center':'LogisticRegression Confusion Matrix'}, xlabel='Predicted Class', ylabel='True Class'>"
      ]
     },
     "execution_count": 210,
     "metadata": {},
     "output_type": "execute_result"
    }
   ],
   "source": [
    "# Import the ConfusionMatrix visualizer\n",
    "from yellowbrick.classifier import ConfusionMatrix\n",
    "\n",
    "# fit model no training data\n",
    "from sklearn.model_selection import train_test_split\n",
    "\n",
    "# Split the data into train and test sets\n",
    "#X_train, X_test, y_train, y_test = train_test_split(X, y, test_size=0.2)\n",
    "\n",
    "# Fit the model on the training data\n",
    "model = LogisticRegression()\n",
    "model.fit(X_train, y_train)\n",
    "\n",
    "# make predictions for test data\n",
    "y_pred = model.predict(X_test)\n",
    "predictions2 = [round(value) for value in y_pred]\n",
    "# Create the confusion matrix visualizer\n",
    "visualizer = ConfusionMatrix(model, classes=['No Drought', 'Drought'])\n",
    "\n",
    "# Fit the visualizer and display the confusion matrix\n",
    "visualizer.fit(X_train, y_train)\n",
    "visualizer.score(X_test, y_test)\n",
    "visualizer.show()\n"
   ]
  },
  {
   "cell_type": "code",
   "execution_count": 211,
   "metadata": {},
   "outputs": [
    {
     "data": {
      "text/html": [
       "<style>#sk-container-id-5 {color: black;background-color: white;}#sk-container-id-5 pre{padding: 0;}#sk-container-id-5 div.sk-toggleable {background-color: white;}#sk-container-id-5 label.sk-toggleable__label {cursor: pointer;display: block;width: 100%;margin-bottom: 0;padding: 0.3em;box-sizing: border-box;text-align: center;}#sk-container-id-5 label.sk-toggleable__label-arrow:before {content: \"▸\";float: left;margin-right: 0.25em;color: #696969;}#sk-container-id-5 label.sk-toggleable__label-arrow:hover:before {color: black;}#sk-container-id-5 div.sk-estimator:hover label.sk-toggleable__label-arrow:before {color: black;}#sk-container-id-5 div.sk-toggleable__content {max-height: 0;max-width: 0;overflow: hidden;text-align: left;background-color: #f0f8ff;}#sk-container-id-5 div.sk-toggleable__content pre {margin: 0.2em;color: black;border-radius: 0.25em;background-color: #f0f8ff;}#sk-container-id-5 input.sk-toggleable__control:checked~div.sk-toggleable__content {max-height: 200px;max-width: 100%;overflow: auto;}#sk-container-id-5 input.sk-toggleable__control:checked~label.sk-toggleable__label-arrow:before {content: \"▾\";}#sk-container-id-5 div.sk-estimator input.sk-toggleable__control:checked~label.sk-toggleable__label {background-color: #d4ebff;}#sk-container-id-5 div.sk-label input.sk-toggleable__control:checked~label.sk-toggleable__label {background-color: #d4ebff;}#sk-container-id-5 input.sk-hidden--visually {border: 0;clip: rect(1px 1px 1px 1px);clip: rect(1px, 1px, 1px, 1px);height: 1px;margin: -1px;overflow: hidden;padding: 0;position: absolute;width: 1px;}#sk-container-id-5 div.sk-estimator {font-family: monospace;background-color: #f0f8ff;border: 1px dotted black;border-radius: 0.25em;box-sizing: border-box;margin-bottom: 0.5em;}#sk-container-id-5 div.sk-estimator:hover {background-color: #d4ebff;}#sk-container-id-5 div.sk-parallel-item::after {content: \"\";width: 100%;border-bottom: 1px solid gray;flex-grow: 1;}#sk-container-id-5 div.sk-label:hover label.sk-toggleable__label {background-color: #d4ebff;}#sk-container-id-5 div.sk-serial::before {content: \"\";position: absolute;border-left: 1px solid gray;box-sizing: border-box;top: 0;bottom: 0;left: 50%;z-index: 0;}#sk-container-id-5 div.sk-serial {display: flex;flex-direction: column;align-items: center;background-color: white;padding-right: 0.2em;padding-left: 0.2em;position: relative;}#sk-container-id-5 div.sk-item {position: relative;z-index: 1;}#sk-container-id-5 div.sk-parallel {display: flex;align-items: stretch;justify-content: center;background-color: white;position: relative;}#sk-container-id-5 div.sk-item::before, #sk-container-id-5 div.sk-parallel-item::before {content: \"\";position: absolute;border-left: 1px solid gray;box-sizing: border-box;top: 0;bottom: 0;left: 50%;z-index: -1;}#sk-container-id-5 div.sk-parallel-item {display: flex;flex-direction: column;z-index: 1;position: relative;background-color: white;}#sk-container-id-5 div.sk-parallel-item:first-child::after {align-self: flex-end;width: 50%;}#sk-container-id-5 div.sk-parallel-item:last-child::after {align-self: flex-start;width: 50%;}#sk-container-id-5 div.sk-parallel-item:only-child::after {width: 0;}#sk-container-id-5 div.sk-dashed-wrapped {border: 1px dashed gray;margin: 0 0.4em 0.5em 0.4em;box-sizing: border-box;padding-bottom: 0.4em;background-color: white;}#sk-container-id-5 div.sk-label label {font-family: monospace;font-weight: bold;display: inline-block;line-height: 1.2em;}#sk-container-id-5 div.sk-label-container {text-align: center;}#sk-container-id-5 div.sk-container {/* jupyter's `normalize.less` sets `[hidden] { display: none; }` but bootstrap.min.css set `[hidden] { display: none !important; }` so we also need the `!important` here to be able to override the default hidden behavior on the sphinx rendered scikit-learn.org. See: https://github.com/scikit-learn/scikit-learn/issues/21755 */display: inline-block !important;position: relative;}#sk-container-id-5 div.sk-text-repr-fallback {display: none;}</style><div id=\"sk-container-id-5\" class=\"sk-top-container\"><div class=\"sk-text-repr-fallback\"><pre>XGBClassifier(base_score=0.5, booster=&#x27;gbtree&#x27;, callbacks=None,\n",
       "              colsample_bylevel=1, colsample_bynode=1, colsample_bytree=1,\n",
       "              early_stopping_rounds=None, enable_categorical=False,\n",
       "              eval_metric=None, feature_types=None, gamma=0, gpu_id=-1,\n",
       "              grow_policy=&#x27;depthwise&#x27;, importance_type=None,\n",
       "              interaction_constraints=&#x27;&#x27;, learning_rate=0.300000012,\n",
       "              max_bin=256, max_cat_threshold=64, max_cat_to_onehot=4,\n",
       "              max_delta_step=0, max_depth=6, max_leaves=0, min_child_weight=1,\n",
       "              missing=nan, monotone_constraints=&#x27;()&#x27;, n_estimators=100,\n",
       "              n_jobs=0, num_parallel_tree=1, predictor=&#x27;auto&#x27;, random_state=0, ...)</pre><b>In a Jupyter environment, please rerun this cell to show the HTML representation or trust the notebook. <br />On GitHub, the HTML representation is unable to render, please try loading this page with nbviewer.org.</b></div><div class=\"sk-container\" hidden><div class=\"sk-item\"><div class=\"sk-estimator sk-toggleable\"><input class=\"sk-toggleable__control sk-hidden--visually\" id=\"sk-estimator-id-5\" type=\"checkbox\" checked><label for=\"sk-estimator-id-5\" class=\"sk-toggleable__label sk-toggleable__label-arrow\">XGBClassifier</label><div class=\"sk-toggleable__content\"><pre>XGBClassifier(base_score=0.5, booster=&#x27;gbtree&#x27;, callbacks=None,\n",
       "              colsample_bylevel=1, colsample_bynode=1, colsample_bytree=1,\n",
       "              early_stopping_rounds=None, enable_categorical=False,\n",
       "              eval_metric=None, feature_types=None, gamma=0, gpu_id=-1,\n",
       "              grow_policy=&#x27;depthwise&#x27;, importance_type=None,\n",
       "              interaction_constraints=&#x27;&#x27;, learning_rate=0.300000012,\n",
       "              max_bin=256, max_cat_threshold=64, max_cat_to_onehot=4,\n",
       "              max_delta_step=0, max_depth=6, max_leaves=0, min_child_weight=1,\n",
       "              missing=nan, monotone_constraints=&#x27;()&#x27;, n_estimators=100,\n",
       "              n_jobs=0, num_parallel_tree=1, predictor=&#x27;auto&#x27;, random_state=0, ...)</pre></div></div></div></div></div>"
      ],
      "text/plain": [
       "XGBClassifier(base_score=0.5, booster='gbtree', callbacks=None,\n",
       "              colsample_bylevel=1, colsample_bynode=1, colsample_bytree=1,\n",
       "              early_stopping_rounds=None, enable_categorical=False,\n",
       "              eval_metric=None, feature_types=None, gamma=0, gpu_id=-1,\n",
       "              grow_policy='depthwise', importance_type=None,\n",
       "              interaction_constraints='', learning_rate=0.300000012,\n",
       "              max_bin=256, max_cat_threshold=64, max_cat_to_onehot=4,\n",
       "              max_delta_step=0, max_depth=6, max_leaves=0, min_child_weight=1,\n",
       "              missing=nan, monotone_constraints='()', n_estimators=100,\n",
       "              n_jobs=0, num_parallel_tree=1, predictor='auto', random_state=0, ...)"
      ]
     },
     "execution_count": 211,
     "metadata": {},
     "output_type": "execute_result"
    }
   ],
   "source": [
    "# fit model no training data\n",
    "from numpy import loadtxt\n",
    "from xgboost import XGBClassifier\n",
    "from sklearn.model_selection import train_test_split\n",
    "from sklearn.metrics import accuracy_score\n",
    "model1 = XGBClassifier()\n",
    "model1.fit(X_train, y_train)"
   ]
  },
  {
   "cell_type": "code",
   "execution_count": 212,
   "metadata": {},
   "outputs": [
    {
     "name": "stdout",
     "output_type": "stream",
     "text": [
      "XGBClassifier(base_score=0.5, booster='gbtree', callbacks=None,\n",
      "              colsample_bylevel=1, colsample_bynode=1, colsample_bytree=1,\n",
      "              early_stopping_rounds=None, enable_categorical=False,\n",
      "              eval_metric=None, feature_types=None, gamma=0, gpu_id=-1,\n",
      "              grow_policy='depthwise', importance_type=None,\n",
      "              interaction_constraints='', learning_rate=0.300000012,\n",
      "              max_bin=256, max_cat_threshold=64, max_cat_to_onehot=4,\n",
      "              max_delta_step=0, max_depth=6, max_leaves=0, min_child_weight=1,\n",
      "              missing=nan, monotone_constraints='()', n_estimators=100,\n",
      "              n_jobs=0, num_parallel_tree=1, predictor='auto', random_state=0, ...)\n"
     ]
    }
   ],
   "source": [
    "print(model1)"
   ]
  },
  {
   "cell_type": "code",
   "execution_count": 213,
   "metadata": {},
   "outputs": [
    {
     "name": "stdout",
     "output_type": "stream",
     "text": [
      "Accuracy: 99.39%\n",
      "[[232   0]\n",
      " [  2  96]]\n"
     ]
    }
   ],
   "source": [
    "from sklearn.metrics import confusion_matrix\n",
    "\n",
    "# fit model no training data\n",
    "from numpy import loadtxt\n",
    "from yellowbrick.classifier import ConfusionMatrix\n",
    "from xgboost import XGBClassifier\n",
    "from sklearn.model_selection import train_test_split\n",
    "from sklearn.metrics import accuracy_score\n",
    "model1 = XGBClassifier()\n",
    "model1.fit(X_train, y_train)\n",
    "\n",
    "# make predictions for test data\n",
    "y_pred = model1.predict(X_test)\n",
    "predictions1 = [round(value) for value in y_pred]\n",
    "\n",
    "# evaluate predictions\n",
    "accuracy = accuracy_score(y_test, predictions1)\n",
    "print(\"Accuracy: %.2f%%\" % (accuracy * 100.0))\n",
    "\n",
    "# create confusion matrix\n",
    "cm1 = confusion_matrix(y_test, predictions1)\n",
    "print(cm1)\n",
    "\n"
   ]
  },
  {
   "cell_type": "code",
   "execution_count": 214,
   "metadata": {},
   "outputs": [
    {
     "data": {
      "image/png": "[encoded data removed]",
      "text/plain": [
       "<Figure size 576x396 with 1 Axes>"
      ]
     },
     "metadata": {},
     "output_type": "display_data"
    },
    {
     "data": {
      "text/plain": [
       "<AxesSubplot:title={'center':'XGBClassifier Confusion Matrix'}, xlabel='Predicted Class', ylabel='True Class'>"
      ]
     },
     "execution_count": 214,
     "metadata": {},
     "output_type": "execute_result"
    }
   ],
   "source": [
    "# Import the ConfusionMatrix visualizer\n",
    "from yellowbrick.classifier import ConfusionMatrix\n",
    "\n",
    "# fit model no training data\n",
    "from xgboost import XGBClassifier\n",
    "from sklearn.model_selection import train_test_split\n",
    "\n",
    "# Split the data into train and test sets\n",
    "#X_train, X_test, y_train, y_test = train_test_split(X, y, test_size=0.2)\n",
    "\n",
    "# Fit the model on the training data\n",
    "model1 = XGBClassifier()\n",
    "model1.fit(X_train, y_train)\n",
    "\n",
    "# make predictions for test data\n",
    "y_pred1 = model1.predict(X_test)\n",
    "predictions1 = [round(value) for value in y_pred1]\n",
    "# Create the confusion matrix visualizer\n",
    "visualizer = ConfusionMatrix(model1, classes=['No Drought', 'Drought'])\n",
    "\n",
    "# Fit the visualizer and display the confusion matrix\n",
    "visualizer.fit(X_train, y_train)\n",
    "visualizer.score(X_test, y_test)\n",
    "visualizer.show()\n"
   ]
  },
  {
   "cell_type": "code",
   "execution_count": 215,
   "metadata": {},
   "outputs": [
    {
     "name": "stdout",
     "output_type": "stream",
     "text": [
      "Accuracy: 70.30%\n",
      "[[232   0]\n",
      " [ 98   0]]\n"
     ]
    }
   ],
   "source": [
    "from sklearn.neighbors import KNeighborsClassifier\n",
    "model2 = KNeighborsClassifier()\n",
    "model2.fit(X_train, y_train)\n",
    "y_pred = model2.predict(X_test)\n",
    "predictions2 = [round(value) for value in y_pred]\n",
    "accuracy = accuracy_score(y_test, predictions2)\n",
    "print(\"Accuracy: %.2f%%\" % (accuracy * 100.0))\n",
    "cm2 = confusion_matrix(y_test, predictions2)\n",
    "print(cm2)\n"
   ]
  },
  {
   "cell_type": "code",
   "execution_count": 216,
   "metadata": {},
   "outputs": [
    {
     "data": {
      "image/png": "[encoded data removed]",
      "text/plain": [
       "<Figure size 576x396 with 1 Axes>"
      ]
     },
     "metadata": {},
     "output_type": "display_data"
    },
    {
     "data": {
      "text/plain": [
       "<AxesSubplot:title={'center':'KNeighborsClassifier Confusion Matrix'}, xlabel='Predicted Class', ylabel='True Class'>"
      ]
     },
     "execution_count": 216,
     "metadata": {},
     "output_type": "execute_result"
    }
   ],
   "source": [
    "# Import the ConfusionMatrix visualizer\n",
    "from yellowbrick.classifier import ConfusionMatrix\n",
    "\n",
    "# fit model no training data\n",
    "from sklearn.model_selection import train_test_split\n",
    "\n",
    "# Split the data into train and test sets\n",
    "#X_train, X_test, y_train, y_test = train_test_split(X, y, test_size=0.2)\n",
    "\n",
    "# Fit the model on the training data\n",
    "model2 = KNeighborsClassifier()\n",
    "model2.fit(X_train, y_train)\n",
    "\n",
    "# make predictions for test data\n",
    "y_pred2 = model2.predict(X_test)\n",
    "predictions2 = [round(value) for value in y_pred2]\n",
    "# Create the confusion matrix visualizer\n",
    "visualizer1 = ConfusionMatrix(model2, classes=['No Drought', 'Drought'])\n",
    "\n",
    "# Fit the visualizer and display the confusion matrix\n",
    "visualizer1.fit(X_train, y_train)\n",
    "visualizer1.score(X_test, y_test)\n",
    "visualizer1.show()"
   ]
  },
  {
   "cell_type": "code",
   "execution_count": 217,
   "metadata": {},
   "outputs": [
    {
     "name": "stdout",
     "output_type": "stream",
     "text": [
      "Accuracy: 87.27%\n",
      "[[190  42]\n",
      " [  0  98]]\n"
     ]
    }
   ],
   "source": [
    "from sklearn.naive_bayes import GaussianNB\n",
    "model3 = GaussianNB()\n",
    "model3.fit(X_train, y_train)\n",
    "y_pred3 = model3.predict(X_test)\n",
    "predictions3 = [round(value) for value in y_pred3]\n",
    "accuracy = accuracy_score(y_test, predictions3)\n",
    "print(\"Accuracy: %.2f%%\" % (accuracy * 100.0))\n",
    "cm3 = confusion_matrix(y_test, predictions3)\n",
    "print(cm3)"
   ]
  },
  {
   "cell_type": "code",
   "execution_count": 218,
   "metadata": {},
   "outputs": [
    {
     "data": {
      "image/png": "[encoded data removed]",
      "text/plain": [
       "<Figure size 576x396 with 1 Axes>"
      ]
     },
     "metadata": {},
     "output_type": "display_data"
    },
    {
     "data": {
      "text/plain": [
       "<AxesSubplot:title={'center':'GaussianNB Confusion Matrix'}, xlabel='Predicted Class', ylabel='True Class'>"
      ]
     },
     "execution_count": 218,
     "metadata": {},
     "output_type": "execute_result"
    }
   ],
   "source": [
    "visualizer2 = ConfusionMatrix(model3, classes=['No Drought', 'Drought'])\n",
    "\n",
    "# Fit the visualizer and display the confusion matrix\n",
    "visualizer2.fit(X_train, y_train)\n",
    "visualizer2.score(X_test, y_test)\n",
    "visualizer2.show()"
   ]
  }
 ],
 "metadata": {
  "kernelspec": {
   "display_name": "Python 3",
   "language": "python",
   "name": "python3"
  },
  "language_info": {
   "codemirror_mode": {
    "name": "ipython",
    "version": 3
   },
   "file_extension": ".py",
   "mimetype": "text/x-python",
   "name": "python",
   "nbconvert_exporter": "python",
   "pygments_lexer": "ipython3",
   "version": "3.8.8"
  },
  "orig_nbformat": 4,
  "vscode": {
   "interpreter": {
    "hash": "5c97b2a2f797fb757870aa45f7a28c6c1b9786d8ed105c73937225ebe5e17e01"
   }
  }
 },
 "nbformat": 4,
 "nbformat_minor": 2
}
